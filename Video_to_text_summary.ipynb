{
  "cells": [
    {
      "cell_type": "code",
      "execution_count": 4,
      "metadata": {
        "colab": {
          "base_uri": "https://localhost:8080/"
        },
        "id": "-oxbKNtbVRmn",
        "outputId": "48a818f0-ed7a-414b-eb92-d85a1d2147ab"
      },
      "outputs": [
        {
          "name": "stdout",
          "output_type": "stream",
          "text": [
            "Collecting SpeechRecognition\n",
            "  Downloading speechrecognition-3.14.2-py3-none-any.whl.metadata (30 kB)\n",
            "Requirement already satisfied: typing-extensions in /usr/local/lib/python3.11/dist-packages (from SpeechRecognition) (4.13.2)\n",
            "Downloading speechrecognition-3.14.2-py3-none-any.whl (32.9 MB)\n",
            "\u001b[2K   \u001b[90m━━━━━━━━━━━━━━━━━━━━━━━━━━━━━━━━━━━━━━━━\u001b[0m \u001b[32m32.9/32.9 MB\u001b[0m \u001b[31m11.2 MB/s\u001b[0m eta \u001b[36m0:00:00\u001b[0m\n",
            "\u001b[?25hInstalling collected packages: SpeechRecognition\n",
            "Successfully installed SpeechRecognition-3.14.2\n"
          ]
        }
      ],
      "source": [
        "%pip install SpeechRecognition"
      ]
    },
    {
      "cell_type": "code",
      "execution_count": 5,
      "metadata": {
        "colab": {
          "base_uri": "https://localhost:8080/"
        },
        "id": "leJjb0miYtMJ",
        "outputId": "70ba9116-06a6-41dc-fccb-bb6b5abf284b"
      },
      "outputs": [
        {
          "name": "stdout",
          "output_type": "stream",
          "text": [
            "Collecting pydub\n",
            "  Downloading pydub-0.25.1-py2.py3-none-any.whl.metadata (1.4 kB)\n",
            "Downloading pydub-0.25.1-py2.py3-none-any.whl (32 kB)\n",
            "Installing collected packages: pydub\n",
            "Successfully installed pydub-0.25.1\n"
          ]
        }
      ],
      "source": [
        "%pip install pydub"
      ]
    },
    {
      "cell_type": "code",
      "execution_count": 9,
      "metadata": {
        "colab": {
          "base_uri": "https://localhost:8080/"
        },
        "id": "_Nnvy3qC93wg",
        "outputId": "1393b476-ecd2-45ca-8f01-b0fa750c9339"
      },
      "outputs": [
        {
          "name": "stdout",
          "output_type": "stream",
          "text": [
            "Requirement already satisfied: moviepy in /usr/local/lib/python3.11/dist-packages (1.0.3)\n",
            "Requirement already satisfied: decorator<5.0,>=4.0.2 in /usr/local/lib/python3.11/dist-packages (from moviepy) (4.4.2)\n",
            "Requirement already satisfied: tqdm<5.0,>=4.11.2 in /usr/local/lib/python3.11/dist-packages (from moviepy) (4.67.1)\n",
            "Requirement already satisfied: requests<3.0,>=2.8.1 in /usr/local/lib/python3.11/dist-packages (from moviepy) (2.32.3)\n",
            "Requirement already satisfied: proglog<=1.0.0 in /usr/local/lib/python3.11/dist-packages (from moviepy) (0.1.11)\n",
            "Requirement already satisfied: numpy>=1.17.3 in /usr/local/lib/python3.11/dist-packages (from moviepy) (2.0.2)\n",
            "Requirement already satisfied: imageio<3.0,>=2.5 in /usr/local/lib/python3.11/dist-packages (from moviepy) (2.37.0)\n",
            "Requirement already satisfied: imageio-ffmpeg>=0.2.0 in /usr/local/lib/python3.11/dist-packages (from moviepy) (0.6.0)\n",
            "Requirement already satisfied: pillow>=8.3.2 in /usr/local/lib/python3.11/dist-packages (from imageio<3.0,>=2.5->moviepy) (11.1.0)\n",
            "Requirement already satisfied: charset-normalizer<4,>=2 in /usr/local/lib/python3.11/dist-packages (from requests<3.0,>=2.8.1->moviepy) (3.4.1)\n",
            "Requirement already satisfied: idna<4,>=2.5 in /usr/local/lib/python3.11/dist-packages (from requests<3.0,>=2.8.1->moviepy) (3.10)\n",
            "Requirement already satisfied: urllib3<3,>=1.21.1 in /usr/local/lib/python3.11/dist-packages (from requests<3.0,>=2.8.1->moviepy) (2.3.0)\n",
            "Requirement already satisfied: certifi>=2017.4.17 in /usr/local/lib/python3.11/dist-packages (from requests<3.0,>=2.8.1->moviepy) (2025.1.31)\n"
          ]
        }
      ],
      "source": [
        "%pip install moviepy"
      ]
    },
    {
      "cell_type": "code",
      "execution_count": 29,
      "metadata": {
        "colab": {
          "base_uri": "https://localhost:8080/"
        },
        "id": "IrVulVHtPa6T",
        "outputId": "ec90391d-2021-44e3-8711-f6557613fc16"
      },
      "outputs": [
        {
          "name": "stdout",
          "output_type": "stream",
          "text": [
            "🔊 Extraction de l'audio...\n",
            "MoviePy - Writing audio in temp_audio.wav\n"
          ]
        },
        {
          "name": "stderr",
          "output_type": "stream",
          "text": []
        },
        {
          "name": "stdout",
          "output_type": "stream",
          "text": [
            "MoviePy - Done.\n",
            "✂️ Découpage de l'audio...\n",
            "📝 Transcription en cours...\n",
            "  Traitement de chunk_0s.wav...\n",
            "    ✅ Segment transcrit:  8 days ago Portugal regularly used a 4-4-2 format...\n",
            "  Traitement de chunk_598s.wav...\n",
            "    ✅ Segment transcrit:  for Nando Earo's pedigree, former Spanish interna...\n",
            "  Traitement de chunk_1197s.wav...\n",
            "    ✅ Segment transcrit:  position this for Portugal and you know who wants...\n",
            "  Traitement de chunk_1796s.wav...\n",
            "    ✅ Segment transcrit:  the ball. Silver and Croquet standing behind this...\n",
            "  Traitement de chunk_2395s.wav...\n",
            "    ✅ Segment transcrit:  the ball. Crossupastron PK. Oh superbly captain b...\n",
            "  Traitement de chunk_2994s.wav...\n",
            "    ✅ Segment transcrit:  with the goal for Spanish side. Christiana Renela...\n",
            "  Traitement de chunk_3592s.wav...\n",
            "    ✅ Segment transcrit:  나왔 East 2-8° crash crash to the top. I'll tell yo...\n",
            "  Traitement de chunk_4191s.wav...\n",
            "    ✅ Segment transcrit:  the Pepe who knows many of these Spanish opponent...\n",
            "  Traitement de chunk_4790s.wav...\n",
            "    ✅ Segment transcrit:  as well. The Carda Corezma who made his internati...\n",
            "  Traitement de chunk_5389s.wav...\n",
            "    ✅ Segment transcrit:  on the ground. That's the third and final change....\n",
            "\n",
            "🔥 Transcription terminée ! Sauvegardée dans transcription_finale.txt\n"
          ]
        }
      ],
      "source": [
        "import warnings\n",
        "warnings.filterwarnings(\"ignore\", category=UserWarning)\n",
        "from moviepy.editor import VideoFileClip\n",
        "import speech_recognition as sr\n",
        "from pydub import AudioSegment\n",
        "import os\n",
        "import whisper\n",
        "import time  # <- pour sleep\n",
        "\n",
        "# Configuration\n",
        "TEMP_AUDIO = \"temp_audio.wav\"\n",
        "CHUNK_FOLDER = \"audio_chunks\"\n",
        "MIN_CHUNK_LENGTH = 30  # secondes minimum par chunk\n",
        "WHISPER_MODEL = \"tiny\"  # tiny / base / small / medium / large\n",
        "\n",
        "# Charger le modèle Whisper une seule fois\n",
        "whisper_model = whisper.load_model(WHISPER_MODEL)\n",
        "\n",
        "def extract_audio(video_path):\n",
        "    \"\"\"Extrait l'audio de la vidéo en format WAV\"\"\"\n",
        "    video = VideoFileClip(video_path)\n",
        "    video.audio.write_audiofile(TEMP_AUDIO, codec='pcm_s16le')\n",
        "    return TEMP_AUDIO\n",
        "\n",
        "def split_audio(audio_path):\n",
        "    \"\"\"Découpe l'audio en chunks de durée égale\"\"\"\n",
        "    if not os.path.exists(CHUNK_FOLDER):\n",
        "        os.makedirs(CHUNK_FOLDER)\n",
        "\n",
        "    audio = AudioSegment.from_wav(audio_path)\n",
        "    duration_ms = len(audio)\n",
        "    chunk_length_ms = max(MIN_CHUNK_LENGTH * 1000, duration_ms // 10)  # 10 chunks maximum\n",
        "\n",
        "    chunks = []\n",
        "    for i in range(0, duration_ms, chunk_length_ms):\n",
        "        chunk = audio[i:i + chunk_length_ms]\n",
        "        chunk_path = os.path.join(CHUNK_FOLDER, f\"chunk_{i//1000}s.wav\")\n",
        "        exported = chunk.export(chunk_path, format=\"wav\")\n",
        "        exported.close()  # <-- fermer correctement pour éviter WinError\n",
        "        chunks.append(chunk_path)\n",
        "\n",
        "    return chunks\n",
        "\n",
        "def transcribe_whisper(chunk_path):\n",
        "    \"\"\"Transcription avec Whisper\"\"\"\n",
        "    try:\n",
        "        result = whisper_model.transcribe(chunk_path, language=\"en\")\n",
        "        return result[\"text\"]\n",
        "    except Exception as e:\n",
        "        print(f\"Erreur Whisper : {e}\")\n",
        "        return \"\"\n",
        "\n",
        "def cleanup():\n",
        "    \"\"\"Nettoie les fichiers temporaires\"\"\"\n",
        "    if os.path.exists(TEMP_AUDIO):\n",
        "        os.remove(TEMP_AUDIO)\n",
        "    if os.path.exists(CHUNK_FOLDER):\n",
        "        for f in os.listdir(CHUNK_FOLDER):\n",
        "            os.remove(os.path.join(CHUNK_FOLDER, f))\n",
        "        os.rmdir(CHUNK_FOLDER)\n",
        "\n",
        "def main(video_path):\n",
        "    try:\n",
        "        # 1. Extraction audio\n",
        "        print(\"🔊 Extraction de l'audio...\")\n",
        "        audio_file = extract_audio(video_path)\n",
        "\n",
        "        # 2. Découpage en chunks\n",
        "        print(\"✂️ Découpage de l'audio...\")\n",
        "        chunks = split_audio(audio_file)\n",
        "\n",
        "        # 3. Transcription\n",
        "        print(\"📝 Transcription en cours...\")\n",
        "        full_text = []\n",
        "\n",
        "        for chunk in chunks:\n",
        "            print(f\"  Traitement de {os.path.basename(chunk)}...\")\n",
        "\n",
        "            # Utilisation directe de Whisper\n",
        "            time.sleep(0.1)  # <-- Petit délai pour s'assurer que le fichier est prêt\n",
        "            text = transcribe_whisper(chunk)\n",
        "\n",
        "            full_text.append(text)\n",
        "            print(f\"    ✅ Segment transcrit: {text[:50]}...\")\n",
        "\n",
        "        # 4. Résultat final\n",
        "        final_transcription = \"\\n\".join(full_text)\n",
        "        output_file = \"transcription_finale.txt\"\n",
        "\n",
        "        with open(output_file, \"w\", encoding=\"utf-8\") as f:\n",
        "            f.write(final_transcription)\n",
        "\n",
        "        print(f\"\\n🔥 Transcription terminée ! Sauvegardée dans {output_file}\")\n",
        "        return final_transcription\n",
        "\n",
        "    finally:\n",
        "        cleanup()\n",
        "\n",
        "if __name__ == \"__main__\":\n",
        "    video_path = \"FULL MATCH_ Portugal v Spain _ 2018 FIFA World Cup.mp4\"\n",
        "    transcription = main(video_path)"
      ]
    },
    {
      "cell_type": "code",
      "execution_count": 9,
      "metadata": {
        "colab": {
          "base_uri": "https://localhost:8080/"
        },
        "id": "tWfXw7_oatH1",
        "outputId": "dad273e9-138f-4399-8464-eb6f70978b05"
      },
      "outputs": [
        {
          "name": "stdout",
          "output_type": "stream",
          "text": [
            "\n",
            "\n",
            "\n",
            "                                                 \u001b[1m📝 Final Transcription: 📝\u001b[0m                                                 \n",
            "\n",
            "➖➖➖➖➖➖➖➖➖➖➖➖➖➖➖➖➖➖➖➖➖➖➖➖➖➖➖➖➖➖➖➖➖➖➖➖➖➖➖➖➖➖➖➖➖➖➖➖➖➖➖➖\n",
            "\n",
            " 8 days ago Portugal regularly used a 4-4-2 formation in qualifying where the gay dash plays just behind Ronaldo or alongside him\n",
            "we will just have to wait and see Portugal have played in more World Cup with Cristiano Ronaldo than without this their fourth\n",
            "with their talisman it's their seventh World Cup in all Gianlu Carrocchi from Italy is in charge to Italian assistance right using\n",
            "Sato from Japan is the fourth official and back in Moscow there is the line up of VR officials led by Massamiliano in acting from\n",
            "Italy David DeHair was an ever-present in qualifying many of this Spanish team we know would have started no matter who the coach\n",
            "is Sergio Puskatz is arguably Spain's most important player on Drazeny S. to score the extra time winner when Spain beat the\n",
            "Netherlands in the 2010 World Cup final Sergio Ramos Catins Spain new coach Fernando Iro was Ramos his hero when he was growing up\n",
            "Diego Costa leads the attack four of this starting an event started the World Cup final in South Africa eight years ago Fernando\n",
            "Santos Portugal qualified for this World Cup on his 63rd birthday last October by beating Switzerland and a better he never\n",
            "thought he'd be sitting there Fernando Iro the former Spanish international and rail Madrid defender promoted from his post of\n",
            "sporting director to head coach a huge role as this match gets underway Spain and Portugal who have both lost their opening match\n",
            "in the last two World Cup stages set here in Soti for what could be a World Cup classic to remember for many years it is a humid\n",
            "night despite the late kickoff time it's nine o'clock in the evening here at local time to Iberian neighbours Cristiano Ronaldo\n",
            "facing four of his rail Madrid teammates Portugal in the old red Spain tonight in their change colors of white with the red trim\n",
            "one bite David Silva it's away by Jose Font looking for the run up front of Guedesch Ronaldo little double step over to start with\n",
            "the race Pepe here's William Guedeta Guedeta little ball in failed looking for Fernando S. Guedesch shot was blocked but maybe\n",
            "Portugal can get a shot in here good opening from the 2016 European Champions 1179% of their competitive matches under Fernando\n",
            "Santos just two defeats in 29 that's for Spain the start of a new era and Fernando Eero they were unbeaten and as you learn\n",
            "Lopategui and I wonder what he's feeling now the deposed national team coach he was unveiled as Real Madrid's new coach yesterday\n",
            "Ronaldo is that a penalty it is inside the opening three minutes Cristiano Ronaldo fell in the penalty area and Portugal have the\n",
            "opportunity to take the lead the challenge coming in from that show Ronaldo since it's rolling and straight away the Italian\n",
            "official pointed to the spot Cristiano Ronaldo has scored seven penalties for Portugal but he scored only three goals in his\n",
            "previous 13 World Cup finals appearances he's the only Portuguese player to score at three different World Cups can he be the only\n",
            "Portuguese player to score at four different World Cups Cristiano Ronaldo against David Deja it's one nail Portugal and was there\n",
            "ever any doubt what's the start for Portugal to here goes one way Ronaldo goes the other it's his 82nd goal for Portugal on his\n",
            "150 first appearance it just had to be him could not have dreamt of a better beginning to their opening group B fixture it's a\n",
            "nightmare start for Fernando Eero and Spain they didn't feel by pk Ramos yodia Albert Spanish fans all a little quiet there are\n",
            "large numbers of supporters of both these countries here in The one 밀нутsalchie turned his buy in the Latino Ronaldo for a kick\n",
            "Portugal challenge by bus gets Cristiano Ronaldo is the first player in history score at eight successive major tournaments. He\n",
            "just keeps creating records and he's only 33 years old and given his physical condition you really wouldn't better against him\n",
            "being in Qatar in four years time provided Portugal qualified to appear at a fifth World Cup finals World Cup Finals. Ramosh.\n",
            "Sergio Ramosh you ended yesterday's media conference. Which was full of questions about the managerial and coaching situation with\n",
            "Spain by saying cheer up. We're not at a funeral. Let's get this World Cup started. And with that he stood up and prompted the\n",
            "march down in the room. He did say it with a smile on his face. It has to be said. But they'll be no smiles in the Spain camp at\n",
            "the moment. Ronaldo clearly failed. You can see the referee's position and absolutely unimpeded view. And Ronaldo does what he\n",
            "does best. It's a dead end. Pintodantly talking of him playing at a fifth World Cup finals in four years time. No player has\n",
            "actually scored at five different World Cup finals.  for Nando Earo's pedigree, former Spanish international Rao Madrid defender,\n",
            "29 goals in 89 appearances for Spain played at three well-cut finals. There was nobody better placed really than the sporting\n",
            "director of the Spanish football association. The Spanish football Federation to give it its correct title. It's got a lot of the\n",
            "Spanish football Federation to give it its correct title. It's got. Looking for Diego Costa. Here's any Esther. Spain really\n",
            "haven't had a strong spell of possession so far. Here's Nacho. He's been both. He canЕ hold a bit. Here's the Yeste. the back.cast\n",
            "2 on that kept faster and the panel tear it open to get on the end of Matt the shot comes in from silver. see David Silver here in\n",
            "a little bit of space. The fourth highest goal score of the Spain scarring that one. His international debut way back in 2006\n",
            "David Silver. He was an unused substitute in the 2010 World Cup Final victory. Playback by P.K. Rouss. David Havich has joined us.\n",
            "Portugal in front. Cristiano Ronaldo with an early penalty after he was fouled in the penalty area. Buskets. He was in fact\n",
            "Portugal's quickest World Cup goal since 1966. When they reached the semi-finals with the great UCB Owen Company only to be beaten\n",
            "in the last four by the eventual champions England. Ronaldo's little flick on. Great Ash was trying to get on the end of it. He\n",
            "was in the last four by the Alba. Here's Ramos. Quoting forward by Esco. No free kick. You can hear the reaction from the Spanish\n",
            "Alba took a tumble. Rupetro show made one appearance at the last World Cup before being injured. Fortunes goalkeeper. Incidentally\n",
            "one of four sporting players in the Portuguese squad who have this week's serve notice on their club that they wish to terminate\n",
            "their contract because of calendar last two or three times in a Time later so it has a very clear after a rather unsavory incident\n",
            "at the club's training ground and that Matteo will now go to Kreence William. Mason Martins in Bruno Fernandez are the the ball is\n",
            "he brings it out from defense. Alba. We're going to take on Pepe. It's gone. That's a corner. Spain's first corner of the match.\n",
            "And they've taken it short. Plenty of bodies forward in white for Spain. No way through for any ester. No way through for any\n",
            "ester. Costa is the target. He's a little bit of debatures to whether it will be the first corner of the match. He's a little bit\n",
            "of debatures to whether it will be the first corner of the match. It's a little bit of debatures to whether it would be Sergio\n",
            "Costa playing up front or maybe Rodrigo. Other strike cap. Diego Costa is one the day. He has Rafael Guerrero. Ronaldo. Jose Font.\n",
            "That's not played a great deal of football in the past year. The Portuguese center half font is. No, we have Chinese club Del\n",
            "Silva. That's what they've got. Busgets. Taniaista Diego Costa can this targets in the middle trust was too date though easily\n",
            "gathered by Rue Patricia Fernando he ever is like a boxer tricks on the edge of the technical areas constantly moving up and down\n",
            "urging his players the newly installed Spanish national coach work wipeout Matino saidric his Matino again this is Rafael Guerrero\n",
            "Guerrero he actually seem to go straight ahead not just about little bit of press Africa from Costa went the slack miskig from the\n",
            "goalл keep up good edge just beaten to it by cocaine is pickcić why the scope Herboss it's go anything Slowly making strides\n",
            "forward the ball play for to him. Pick up on this next side by Nashio. Away by Ronaldo and Portugal might be able to break away\n",
            "here. It's Gonzalo. Great Ash and Ronaldo making the run on this next side. Great Ash. And then he's going to be able to pick up\n",
            "this last second. He's going to have to go all the way on his own. The pass was Woche of fraction of a second there. 2 in Aldo.\n",
            "But the Portuguese cat in how to check his run for fear of going offside. And see. Great Ash. Just having a little look to his\n",
            "left. And then rather run up a kick without him. Congratulations. Pick up. Congratulations. Congratulations. Congratulations.\n",
            "Congratulations. The students?! The students?! The students?! and as Matino challenge for it then it was grade S. who was caught\n",
            "Sergio Postgates is the first player to be cautioned then tonight and Spain have some defending to do another team in  position\n",
            "this for Portugal and you know who wants that as well. It's the familiar setup. Will he go for goal? Will he drive it in hoping to\n",
            "get a touch from a teammate? Everyone knows what's coming. The Portugal do have somebody else out there just in case the freaky\n",
            "comes in a different direction. It is for an hour though. It's straight into the wall. It's a little bit of a kick. Put the power\n",
            "behind this to Portuguese players though in the wall committing the foul. Here's Nacho. He's not sure. PK. They're up PK who will\n",
            "retire from international football for Spain after this world cup. One of the six players in this squad who were involved in 2010\n",
            "when Spain lifted the trophy. Silver. Ramos. Football by EDS. Silver. Silver's little touch. Costa isn't going to get on the end\n",
            "of that one. Not had a great deal of service so far tonight. Did he go Costa? No. Now those had up. This is William. PAPAC. Well,\n",
            "be the last major tournament that we see at PAPAC and Joe's. They fought together in the heart of the Portuguese defense. Now 35\n",
            "years of age. A little touch for Drum Coke. Costa. Held up by PAPAC. It's going to let that ball roll for a Spanish throw. Ramos.\n",
            "Top show of EDS. He's in the Ester again. And he's in the Ester. He's in the Ester Bai, There's a package for plastic bag, and the\n",
            "shot has deflected wide from Davyn Selbert. Sproom when their second corner. and Arno Silva and Portugar away at three against two\n",
            "here at the bulk of him playing correctly. Ronaldo infield and Spain just able to get back. Gway dash unable to apply the\n",
            "finishing touch. To a center lighting break away move. Spain really struggling to get back in numbers. That it'll touch infield\n",
            "from Ronaldo. Spain were back. That's twice now that Portugar have broke away. From deep inside their own half. The first half.\n",
            "Prudging the midway point of the first half. Portugar in front and they have never lost a world cup match when they have scored\n",
            "the opening goal. 12 wins out of 13. The other ending all square. Looking to expunge better memories from four years ago. When\n",
            "they lost four nil to Germany in their opening match. Top back from Bernardo Silva. Finds Guerrero. Ronaldo's in the middle. Long\n",
            "ball forward looking for Diego Costa up against Pepe. Pepe gets the head up and goes down. Play continues. It's Diego Costa. Can\n",
            "he get a shot away? Costa scores. And while Spain celebrate. Portugar are extremely upset about the manner of that goal. They felt\n",
            "there was a clear foul there on Pepe. They're going to be a good match. There you can see the Portugar's defender down on the\n",
            "ground. But what brilliant skill. Veer is checking for a potential foul by Diego Costa. That check has been completed. And the\n",
            "goal stands. There's the incident. Pepe goes down. Look how many defenders are back here for Portugar. Diego Costa all on his own.\n",
            "And able to fire at pass through a patrisio. Portugal won. Spain won. And this match which promised so much is that the moment\n",
            "most certainly delivering. Who was it? It was saying a few minutes ago that Diego Costa hadn't had much service. Yeah, I'll admit\n",
            "that. It is still swelteringly hot here in such a such a humid night. But an enstruggling. Engrossing. Group B fixture. Broco and\n",
            "around the other two teams in this group. Esco. And the goal is going to be the final. Alba is in the end. Alba is continuing his\n",
            "run forward. It's off the other side of the bar. Diego Costa can be bundled in really patrisio with the side. Now the flag is up\n",
            "on this near side. And that may well have been for off side. Esco is asking for Veer. It's a very good view of his shot. But goal\n",
            "line technology would have alerted the referee to the fact that the ball across the line. That was from his go. Spain stung by\n",
            "that early Portuguese penalty. Right back in it. The momentum of this match at the moment certainly with the team in white. Alba.\n",
            "Ramos. Something hard trying. Thanks.了吧 sila. Diego Closte. Bullrunf shifts. one fairly when you can see that Bruno Fernandez is\n",
            "going to be far cautioned well he thought it was a fair challenge and initially it didn't appear as though the assistants on this\n",
            "near side had raised his flag only every cent sacrifice the dash. it's shown yellow. Don't ever run out of these jumps a<|pl|>,\n",
            "everyone.  the ball. Silver and Croquet standing behind this for a kick for Spain. Everybody back for Portugal. Silver. The ball\n",
            "is on top corner. We'll be the target. You will presume. Ramos waiting in the penalty at the moment. He's just in an off-site\n",
            "position. The ball is on top of the ball. The national weights. Silver straight into the wall. Clarence not too far though. Coke.\n",
            "Easily awake by font. Great. 2-high-four Ronaldo. Taken down by Silver. Guerrero made the run on the over lap. Here he is. The\n",
            "full back. Ronaldo. Here's William. For anandace. The ball. It's been a busy evening so far. It's at the Italian official. As you\n",
            "can see here. The ball. The hole of the ball did not cross the line. The ball was on top of the ball. The ball was on top of the\n",
            "ball. Here's Costa. Square of the Spanish equalizer. This is font. Here goes Costa's equalizer after 24 minutes. It's a world cup.\n",
            "A little fresher than the rest. Didn't play for six months at the end of last year. You remember after his dispute with his former\n",
            "club Chelsea in England. Moving back to his former club Athletico Madrid. He's a great player. He's a great player. He's a great\n",
            "player. He's a great player. He's a great player. He's a great player. He's a great player. He's a great player. He's a great\n",
            "player. He's a great player. He's a great player. He's a great player. He's a great player. He's a great player. He's a great\n",
            "player. He's a great player. He's a great player. He's a great player. He's a great player. He's a great player. He's a great\n",
            "player. He's a great player. He's a great player. He's a great player. He's a great player. He's a great player. He's a game. He\n",
            "must start this away. He'll try and keep that in and does so. It's a way by setric. Anyesta. потер turn. Self penal he's going for\n",
            "him with Sym yeah. It was for him for a massive hit in the Vanguard. Half to the end of this hit. well it was for him from\n",
            "Barcelona at the end of last season off to past just new in Japan with Fissel Kobay in the J. League. Final on bus gets. Bus gets.\n",
            "The match. Silver. Ramos. Niesta. Ficture by William. Ronaldo set off on a runner head of him but wasn't spotted by the player.\n",
            "The player was out. The player was out. But Ronaldo silver took the throw quickly and Cristiano Rayanaldo was away. Actually the\n",
            "throw was awarded by the referee. The other way. See here the ball goes out of play. It's a very quickly by Silver but\n",
            "erroneously. Naturally. He's got. Here's Nacho. Patient build up from Spain. Okay trying to find a way through onto the end of his\n",
            "own pass. One back by Silver. P.K. Been a good period of play for Spain. Since they're equalised up. He's got. He's got. He's got.\n",
            "Silver loses out. Ramos. Koke. He has Nacho. Ramos. He's got. Lovely interplay from Spain. The little pull back. Anyasta. Problems\n",
            "mounting for Fernando Sanchez and Portugal. The man who scored the most important goal in Spanish football and he's got a little\n",
            "touch on the way through as well. Well three of Fernando Eiro. The new coaches. International against Portugal. And it as draws.\n",
            "He was a player. We have just under 10 minutes plus Toppish time to go in the first half here. Portugal won. Spain won. We have\n",
            "just under 10 minutes plus Toppish time to go in the first half here. Portugal won. Spain won. Portugal won. Spain won. Anyasta.\n",
            "Esco. Can't get a shot away this time. Great Ash. The little back here was a little blind. México pushed by and a shot. He drewima\n",
            "ready for the shot with the ball at the ball, that was shot arqu Level 141 with Flacha. Best injuries because no training just\n",
            "made up of makeoun. especially. same fate in Russia as it had last year at the Confederations Cup when he broke his foot the\n",
            "Portuguese left back Silver. John Moutinho. Good arrow. To have having to initially backtrack quickly. The Santos League is in\n",
            "charge of grace at the last World Cup in Brazil, he reached the round of 16 words that grace but lost on penalties to Costa Rica.\n",
            "Ramos. It's go. Macho.  the ball. Crossupastron PK. Oh superbly captain by Albert. Any Esther. Costa. Any Esther but it'll ball\n",
            "with the outside of a boot. Anet results in a corner. Albert was the target put behind by Pepe. The ball is just behind. Costa in\n",
            "the penalty area. Ramoss is there as well. PK is forward for Spain. So it's a score. Two high for Ramoss. Looks gets almost got to\n",
            "it. He is good at it. Fantz. Fantz. Fantz Guerrero. Renaldo. Ronaldo Silva. Bruno Fernandez. Possibly the longest player\n",
            "possession of Portugal. I've enjoyed for a few while minutes. Fantz. Touch on the way through. Portuguese throw. He's got two\n",
            "balls in play at the moment. He's one of them going to have to be kicked off the pitch. He did wonder who will be the happier of\n",
            "these two teams. If it stays this way at half time. Fantz. Fantz. Fantz. Fantz. A green show. Fantz. Fantz. Fantz. Fantz. Fantz.\n",
            "Fantz. Fantz. Fantz. Fantz. Fantz. Fantz. Fantz. Fantz. Fantz. Fantz. Fantz. Fantz. and he's got 10 goals for Spain Escoan is 29\n",
            "appearances now for his country and then it was Carlo Anciotti's first signing when he took over at Real Madrid back in 2013 and\n",
            "he asked that. He's Albert. Oh, not the best of clearance is away. It has to be said, but in his defense there were Spanish\n",
            "strikers looming behind Garado. It's a fourth corner then, fourth Spain. Towards Pique, gathered by Rui Petricio and a quick throw\n",
            "as well. Here's Cristiano Ronaldo. Portugal looking to break it again. The knock-been successful on the two previous occasions and\n",
            "Spain now have men back in numbers. William. Silver. Sedric drives it across Ronaldo the target. What could bouncing ball? William\n",
            "may get that. The heighted fanty, Jove. And the days in he has to very much coming into play that. Great-esh. Onside Ronaldo\n",
            "wasn't initially. Ronaldo with the shot-off. It's gone in. Onera from David to Hayat and Cristiano Ronaldo gets Portugal second\n",
            "goal of the night. His second goal of the night and very much against the run of play. Portugal, a back in front. He's the ball\n",
            "forward. Great-esh. He will take it down. And Ronaldo shot should have been comfortable for David to Hayat. What's it, Erat? One\n",
            "that will haunt David to Hayat for years to come. Because just before half time, Cristiano Ronaldo has turned this group match\n",
            "back in Portugal's play button. He's the first one to come. He's the second one to come. He's the second one to come. He's the\n",
            "second one to come. It has been fantastic for silver. Ramos. Albert looking to take on sadrick. Spying get another corner. This\n",
            "may well be the last passage of play in the first half. Almost at the additional one minute stage. He's the first one to come.\n",
            "He's the first one to come. He's the first one to come. It's been a fantastic first 45 minutes. At the break, it is Portugal 2.\n",
            "Spain 1. There in the Spanish girl. Diego Costa.  with the goal for Spanish side. Christiana Renela who has a hat trip has a real\n",
            "habit of scoring hatrics. If he were to score again tonight it would be his 51st career hatric which is simply remarkable isn't\n",
            "it? What more can you say about one of the world's greatest ever players? Let's face it. The debate has to wear that Leonardo\n",
            "Messi or Cristiano Ronaldo is the better. Is it a little irrelevant? Let's just enjoy the fact that we have to supreme world\n",
            "talents, gracing the world stage at the same time. It would also be the 51st world cup finals hatric if he were to score again.\n",
            "Spain determined to find a way back into this match and they certainly had very productive spells in the first half. He decided if\n",
            "the goal from Diego Costa. Spain and White if you have just joined us Portugal in the all red. Esco Silva. He looked off side and\n",
            "eventually the flag was raised. Coming into this world cup Portugal at Los just one of the last 18 matches. That was to the\n",
            "Netherlands. We weren't here in Russia this summer in a friendly in March otherwise 12 wins and five draws. That's for Spain.\n",
            "Unbeaten under their former coach. Did you learn Lopper Tegu? No. Spain throw it which we take a bite. Natural on that far side.\n",
            "Sergio Ramos. Esco. Okay. Okay. Who won the Europa League in Europe last year with his club athletic armoured red. Set up a\n",
            "European super cup final against that let it go Madrid. Of course won the Champions League. Three weeks ago and Kiev. Ronaldo.\n",
            "Holds it up. But not a silver. Finds William. Who if you can work it wide to that left hand side is Guerrero. Red Ash was the\n",
            "target. Not found any Esther. The last two. And in the shot is worldwide. Esco. 43,866. The attendance here in Sachi tonight. The\n",
            "last two. Let's be able to shoot pulling there and indeed there was on no push gets. Silver trying to get away from William.\n",
            "Costa. Old good bounce for Sedrick just got there ahead of Esco. Ronaldo beating the air by Ramos. William. He can. Buscats. Costa\n",
            "at the moment. The only man in the middle for a Time stroke to insert coverinished today. He transferred cough spots in the middle\n",
            "for years and sometimes the first fun. But Morty Coaster at the moment the only man in the middle for Goodnight. Till the end of\n",
            "the good he's got eel Silva. We'll work at Lie. the match. Matcho. Support from Coke. Here he is. Silva. Matcho. Coke. It's almost\n",
            "as if the three of them are having a private match by themselves. Portugal just holding firm keeping their shape. Ramos. Silva.\n",
            "Silva. Therefore our career at material Troud hold through. Looking for Caster. Almost drop there for NES still. Not quite the\n",
            "same tempo at the beginning of this,ела. pulse. Remus. Thomas little touch back. Away through Phloenierster tidied up by Sedrick.\n",
            "Pep Av. the first time. Ramos. Buskets finds this go. Nacho is in a little bit of space on that far side. Here he is. It's go.\n",
            "Couldn't find still that. Nothing to drop of the shoulder that. Spying pick up again any yesterday. And then as any yesterday.\n",
            "Fowl. Right under the nose of the referee. Elm by team Paul See who was one of t opportunities at inflation five minutes In a\n",
            "short ungo Keep to make the Ninth once he can see everything on the ball. This is too far out for a shot on goal. Silver on the\n",
            "right. It is behind the ball. Okay. Standing in front of it. Silver with a little chip. Back across gold turned it. Diego Costa\n",
            "strikes again. A simple free kick move from Spain. And for the second time tonight in the last shot in the corner. The ball is\n",
            "checking for a potential foul in the build up to this goal. The check has been completed. And the goal stands. Costa on the end of\n",
            "it. Close range wasn't going to the ball. The Spanish nation rejoices. Two goals from Ronaldo. Boats right out by Diego Costa. And\n",
            "that in all honesty was the first goal. The goal is going to be the second half. Eight goals in his last eight starts for Spain.\n",
            "No wonder they are delighted.  나왔 East 2-8° crash crash to the top. I'll tell you he'll be the most relieved man inside the\n",
            "stadium here in Sotchik with that equalizer and that'll be David DeHaye, the Spanish goalkeeper is error. Now in the great big\n",
            "scheme of things doesn't really matter because it is back to a piece. P.K. Silva. P.K. An answer is touch. Cut out by Penado\n",
            "Silva. He's going out for Spain. Ronaldo barely bothering really to try and win the ball back for his team. He's his goal. Steps\n",
            "away from Penado Silva. Alba. Esco. Alba. Silva. He's going to take a break from Spain. Now in my drop for the shot here. Oh, what\n",
            "a shot that is. Mechio. Mmeau gave away the penalty. Early on in this match has. schlead himself in style. They didn't look to be\n",
            "a way through here for Spain. But the trio of Spanish players somehow worked it through. It's set up really nicely for the full\n",
            "back. Look at Nachos eyes. Contrauding. Fully. It's a lovely strike. It's a very good ending in off the post. Wow. Spain 3.\n",
            "Portugal 2 now. Just look at his face. We have still. To reach the Almarque. This has the potential to beat. I came to be\n",
            "remembered for years to come. Now Ronaldo wants a yellow card for the challenge on him. There are some officials who may well have\n",
            "been tempted to book the Portuguese Captain phase. As he went down that. Portugal behind for the first time this evening. Half\n",
            "cleared. This is Bruno Fernandes. Straight out of play. He's a good player. He's a good player. He's actually an inspiration. He's\n",
            "had diabetes since he was a child and was told age 12 that he should give up football. He's a second opinion. He always carries\n",
            "his insulin with him and his proof that diabetes is not necessarily a barrier to reaching the very top levels of international\n",
            "sport. He's a good player. He's a good player. He's a good player. He's a good player. He's a good player. He's a good player.\n",
            "He's a good player. He's a good player. He picked up by Ronaldo. Driven into the middle towards Guadaz. This is the first corner\n",
            "that Portugal have had in this match. I'm confident the same against agility players. Over. one there opening match just twice in\n",
            "their last 12 well cups three draws and seven defeats. One of those defeats came in 2010 when they lost. They're opening match to\n",
            "Switzerland by one goal to nail. And they then began the first team to win the well cup despite losing their opening fixture of\n",
            "the tournament. These two teams were definitely the favorites to make it through from group B. Morocco and Iran. The other two\n",
            "nations in the group. It is Iran next for Spain. Morocco next for Portugal. First change of the 90s about to happen down below.\n",
            "Shell Mario is about to come on for Portugal. Silver steps away from the challenge that of Bruno Fernandez. Iniesta. Alba. Worked\n",
            "out wide to Nacho. Taking by Rudy Patricia. Just. Might well be Bruno Fernandez who is going to come off. I have no inside\n",
            "knowledge other than the fact that the referee's board is already showing the fourth official's board rather is already showing\n",
            "the number 16 and 10 on it. Trust me if it was a suits set. I'll be winning the lottery every week. Chase back for font. Cost a\n",
            "pursuing him. Pepe. The players cross field ball. away by pk. will Tinho. Is that correct?\n"
          ]
        }
      ],
      "source": [
        "import textwrap\n",
        "\n",
        "with open(\"transcription_finale.txt\", \"r\", encoding=\"utf-8\") as f:\n",
        "    final_transcription = f.read()\n",
        "\n",
        "print(\"\\n\\n\")\n",
        "# Center and enlarge the title\n",
        "print(\"{:^130}\".format(\"\\033[1m📝 Final Transcription: 📝\\033[0m\"))\n",
        "print(\"\\n➖➖➖➖➖➖➖➖➖➖➖➖➖➖➖➖➖➖➖➖➖➖➖➖➖➖➖➖➖➖➖➖➖➖➖➖➖➖➖➖➖➖➖➖➖➖➖➖➖➖➖➖\")\n",
        "\n",
        "wrapped_text = textwrap.fill(final_transcription, width=130)\n",
        "print(\"\\n\", wrapped_text)"
      ]
    },
    {
      "cell_type": "code",
      "execution_count": 3,
      "metadata": {
        "colab": {
          "base_uri": "https://localhost:8080/"
        },
        "id": "kvluTr6o3g7I",
        "outputId": "d02a0fc5-630c-41e1-fe0a-db1083b432e0",
        "vscode": {
          "languageId": "powershell"
        }
      },
      "outputs": [
        {
          "name": "stdout",
          "output_type": "stream",
          "text": [
            "Defaulting to user installation because normal site-packages is not writeable"
          ]
        },
        {
          "name": "stderr",
          "output_type": "stream",
          "text": [
            "\n",
            "[notice] A new release of pip is available: 25.0.1 -> 25.1\n",
            "[notice] To update, run: python.exe -m pip install --upgrade pip\n"
          ]
        },
        {
          "name": "stdout",
          "output_type": "stream",
          "text": [
            "\n",
            "Collecting en-core-web-sm==3.8.0\n",
            "  Using cached https://github.com/explosion/spacy-models/releases/download/en_core_web_sm-3.8.0/en_core_web_sm-3.8.0-py3-none-any.whl (12.8 MB)\n",
            "\u001b[38;5;2m✔ Download and installation successful\u001b[0m\n",
            "You can now load the package via spacy.load('en_core_web_sm')\n"
          ]
        }
      ],
      "source": [
        "!python -m spacy download en_core_web_sm\n"
      ]
    },
    {
      "cell_type": "code",
      "execution_count": 8,
      "metadata": {},
      "outputs": [
        {
          "name": "stdout",
          "output_type": "stream",
          "text": [
            "Defaulting to user installation because normal site-packages is not writeable\n",
            "Collecting spacy\n",
            "  Using cached spacy-3.8.5-cp312-cp312-win_amd64.whl.metadata (28 kB)\n",
            "Collecting spacy-legacy<3.1.0,>=3.0.11 (from spacy)\n",
            "  Using cached spacy_legacy-3.0.12-py2.py3-none-any.whl.metadata (2.8 kB)\n",
            "Collecting spacy-loggers<2.0.0,>=1.0.0 (from spacy)\n",
            "  Using cached spacy_loggers-1.0.5-py3-none-any.whl.metadata (23 kB)\n",
            "Collecting murmurhash<1.1.0,>=0.28.0 (from spacy)\n",
            "  Using cached murmurhash-1.0.12-cp312-cp312-win_amd64.whl.metadata (2.2 kB)\n",
            "Collecting cymem<2.1.0,>=2.0.2 (from spacy)\n",
            "  Using cached cymem-2.0.11-cp312-cp312-win_amd64.whl.metadata (8.8 kB)\n",
            "Collecting preshed<3.1.0,>=3.0.2 (from spacy)\n",
            "  Using cached preshed-3.0.9-cp312-cp312-win_amd64.whl.metadata (2.2 kB)\n",
            "Collecting thinc<8.4.0,>=8.3.4 (from spacy)\n",
            "  Using cached thinc-8.3.6-cp312-cp312-win_amd64.whl.metadata (15 kB)\n",
            "Collecting wasabi<1.2.0,>=0.9.1 (from spacy)\n",
            "  Using cached wasabi-1.1.3-py3-none-any.whl.metadata (28 kB)\n",
            "Collecting srsly<3.0.0,>=2.4.3 (from spacy)\n",
            "  Using cached srsly-2.5.1-cp312-cp312-win_amd64.whl.metadata (20 kB)\n",
            "Collecting catalogue<2.1.0,>=2.0.6 (from spacy)\n",
            "  Using cached catalogue-2.0.10-py3-none-any.whl.metadata (14 kB)\n",
            "Collecting weasel<0.5.0,>=0.1.0 (from spacy)\n",
            "  Using cached weasel-0.4.1-py3-none-any.whl.metadata (4.6 kB)\n",
            "Requirement already satisfied: typer<1.0.0,>=0.3.0 in c:\\users\\shams\\appdata\\roaming\\python\\python312\\site-packages (from spacy) (0.12.5)\n",
            "Requirement already satisfied: tqdm<5.0.0,>=4.38.0 in c:\\users\\shams\\appdata\\roaming\\python\\python312\\site-packages (from spacy) (4.67.1)\n",
            "Requirement already satisfied: numpy>=1.19.0 in c:\\users\\shams\\appdata\\roaming\\python\\python312\\site-packages (from spacy) (2.2.5)\n",
            "Requirement already satisfied: requests<3.0.0,>=2.13.0 in c:\\users\\shams\\appdata\\roaming\\python\\python312\\site-packages (from spacy) (2.32.0)\n",
            "Requirement already satisfied: pydantic!=1.8,!=1.8.1,<3.0.0,>=1.7.4 in c:\\users\\shams\\appdata\\roaming\\python\\python312\\site-packages (from spacy) (2.11.2)\n",
            "Requirement already satisfied: jinja2 in c:\\users\\shams\\appdata\\roaming\\python\\python312\\site-packages (from spacy) (3.1.4)\n",
            "Requirement already satisfied: setuptools in c:\\users\\shams\\appdata\\roaming\\python\\python312\\site-packages (from spacy) (78.1.0)\n",
            "Requirement already satisfied: packaging>=20.0 in c:\\users\\shams\\appdata\\roaming\\python\\python312\\site-packages (from spacy) (24.1)\n",
            "Collecting langcodes<4.0.0,>=3.2.0 (from spacy)\n",
            "  Using cached langcodes-3.5.0-py3-none-any.whl.metadata (29 kB)\n",
            "Collecting language-data>=1.2 (from langcodes<4.0.0,>=3.2.0->spacy)\n",
            "  Using cached language_data-1.3.0-py3-none-any.whl.metadata (4.3 kB)\n",
            "Requirement already satisfied: annotated-types>=0.6.0 in c:\\users\\shams\\appdata\\roaming\\python\\python312\\site-packages (from pydantic!=1.8,!=1.8.1,<3.0.0,>=1.7.4->spacy) (0.7.0)\n",
            "Requirement already satisfied: pydantic-core==2.33.1 in c:\\users\\shams\\appdata\\roaming\\python\\python312\\site-packages (from pydantic!=1.8,!=1.8.1,<3.0.0,>=1.7.4->spacy) (2.33.1)\n",
            "Requirement already satisfied: typing-extensions>=4.12.2 in c:\\users\\shams\\appdata\\roaming\\python\\python312\\site-packages (from pydantic!=1.8,!=1.8.1,<3.0.0,>=1.7.4->spacy) (4.12.2)\n",
            "Requirement already satisfied: typing-inspection>=0.4.0 in c:\\users\\shams\\appdata\\roaming\\python\\python312\\site-packages (from pydantic!=1.8,!=1.8.1,<3.0.0,>=1.7.4->spacy) (0.4.0)\n",
            "Requirement already satisfied: charset-normalizer<4,>=2 in c:\\users\\shams\\appdata\\roaming\\python\\python312\\site-packages (from requests<3.0.0,>=2.13.0->spacy) (3.4.0)\n",
            "Requirement already satisfied: idna<4,>=2.5 in c:\\users\\shams\\appdata\\roaming\\python\\python312\\site-packages (from requests<3.0.0,>=2.13.0->spacy) (3.10)\n",
            "Requirement already satisfied: urllib3<3,>=1.21.1 in c:\\users\\shams\\appdata\\roaming\\python\\python312\\site-packages (from requests<3.0.0,>=2.13.0->spacy) (1.26.20)\n",
            "Requirement already satisfied: certifi>=2017.4.17 in c:\\users\\shams\\appdata\\roaming\\python\\python312\\site-packages (from requests<3.0.0,>=2.13.0->spacy) (2024.12.14)\n",
            "Collecting blis<1.4.0,>=1.3.0 (from thinc<8.4.0,>=8.3.4->spacy)\n",
            "  Using cached blis-1.3.0-cp312-cp312-win_amd64.whl.metadata (7.6 kB)\n",
            "Collecting confection<1.0.0,>=0.0.1 (from thinc<8.4.0,>=8.3.4->spacy)\n",
            "  Using cached confection-0.1.5-py3-none-any.whl.metadata (19 kB)\n",
            "Requirement already satisfied: colorama in c:\\users\\shams\\appdata\\roaming\\python\\python312\\site-packages (from tqdm<5.0.0,>=4.38.0->spacy) (0.4.6)\n",
            "Requirement already satisfied: click>=8.0.0 in c:\\users\\shams\\appdata\\roaming\\python\\python312\\site-packages (from typer<1.0.0,>=0.3.0->spacy) (8.1.7)\n",
            "Requirement already satisfied: shellingham>=1.3.0 in c:\\users\\shams\\appdata\\roaming\\python\\python312\\site-packages (from typer<1.0.0,>=0.3.0->spacy) (1.5.4)\n",
            "Requirement already satisfied: rich>=10.11.0 in c:\\users\\shams\\appdata\\roaming\\python\\python312\\site-packages (from typer<1.0.0,>=0.3.0->spacy) (13.0.0)\n",
            "Collecting cloudpathlib<1.0.0,>=0.7.0 (from weasel<0.5.0,>=0.1.0->spacy)\n",
            "  Using cached cloudpathlib-0.21.0-py3-none-any.whl.metadata (14 kB)\n",
            "Collecting smart-open<8.0.0,>=5.2.1 (from weasel<0.5.0,>=0.1.0->spacy)\n",
            "  Using cached smart_open-7.1.0-py3-none-any.whl.metadata (24 kB)\n",
            "Requirement already satisfied: MarkupSafe>=2.0 in c:\\users\\shams\\appdata\\roaming\\python\\python312\\site-packages (from jinja2->spacy) (3.0.2)\n",
            "Collecting marisa-trie>=1.1.0 (from language-data>=1.2->langcodes<4.0.0,>=3.2.0->spacy)\n",
            "  Using cached marisa_trie-1.2.1-cp312-cp312-win_amd64.whl.metadata (9.3 kB)\n",
            "Requirement already satisfied: commonmark<0.10.0,>=0.9.0 in c:\\users\\shams\\appdata\\roaming\\python\\python312\\site-packages (from rich>=10.11.0->typer<1.0.0,>=0.3.0->spacy) (0.9.1)\n",
            "Requirement already satisfied: pygments<3.0.0,>=2.6.0 in c:\\users\\shams\\appdata\\roaming\\python\\python312\\site-packages (from rich>=10.11.0->typer<1.0.0,>=0.3.0->spacy) (2.18.0)\n",
            "Requirement already satisfied: wrapt in c:\\users\\shams\\appdata\\roaming\\python\\python312\\site-packages (from smart-open<8.0.0,>=5.2.1->weasel<0.5.0,>=0.1.0->spacy) (1.17.2)\n",
            "Downloading spacy-3.8.5-cp312-cp312-win_amd64.whl (11.8 MB)\n",
            "   ---------------------------------------- 0.0/11.8 MB ? eta -:--:--\n",
            "    --------------------------------------- 0.3/11.8 MB ? eta -:--:--\n",
            "   - -------------------------------------- 0.5/11.8 MB 3.4 MB/s eta 0:00:04\n",
            "   -- ------------------------------------- 0.8/11.8 MB 1.6 MB/s eta 0:00:07\n",
            "   --- ------------------------------------ 1.0/11.8 MB 1.4 MB/s eta 0:00:08\n",
            "   ---- ----------------------------------- 1.3/11.8 MB 1.4 MB/s eta 0:00:08\n",
            "   ----- ---------------------------------- 1.6/11.8 MB 1.3 MB/s eta 0:00:09\n",
            "   ----- ---------------------------------- 1.6/11.8 MB 1.3 MB/s eta 0:00:09\n",
            "   ------- -------------------------------- 2.1/11.8 MB 1.2 MB/s eta 0:00:08\n",
            "   -------- ------------------------------- 2.4/11.8 MB 1.3 MB/s eta 0:00:08\n",
            "   ---------- ----------------------------- 3.1/11.8 MB 1.5 MB/s eta 0:00:06\n",
            "   ------------ --------------------------- 3.7/11.8 MB 1.6 MB/s eta 0:00:06\n",
            "   ------------- -------------------------- 3.9/11.8 MB 1.6 MB/s eta 0:00:05\n",
            "   --------------- ------------------------ 4.5/11.8 MB 1.6 MB/s eta 0:00:05\n",
            "   ---------------- ----------------------- 4.7/11.8 MB 1.6 MB/s eta 0:00:05\n",
            "   ---------------- ----------------------- 4.7/11.8 MB 1.6 MB/s eta 0:00:05\n",
            "   ---------------- ----------------------- 4.7/11.8 MB 1.6 MB/s eta 0:00:05\n",
            "   ---------------- ----------------------- 5.0/11.8 MB 1.4 MB/s eta 0:00:05\n",
            "   ---------------- ----------------------- 5.0/11.8 MB 1.4 MB/s eta 0:00:05\n",
            "   ---------------- ----------------------- 5.0/11.8 MB 1.4 MB/s eta 0:00:05\n",
            "   ---------------- ----------------------- 5.0/11.8 MB 1.4 MB/s eta 0:00:05\n",
            "   ---------------- ----------------------- 5.0/11.8 MB 1.4 MB/s eta 0:00:05\n",
            "   ---------------- ----------------------- 5.0/11.8 MB 1.4 MB/s eta 0:00:05\n",
            "   ---------------- ----------------------- 5.0/11.8 MB 1.4 MB/s eta 0:00:05\n",
            "   ---------------- ----------------------- 5.0/11.8 MB 1.4 MB/s eta 0:00:05\n",
            "   ----------------- ---------------------- 5.2/11.8 MB 1.0 MB/s eta 0:00:07\n",
            "   ----------------- ---------------------- 5.2/11.8 MB 1.0 MB/s eta 0:00:07\n",
            "   ----------------- ---------------------- 5.2/11.8 MB 1.0 MB/s eta 0:00:07\n",
            "   ----------------- ---------------------- 5.2/11.8 MB 1.0 MB/s eta 0:00:07\n",
            "   ------------------ --------------------- 5.5/11.8 MB 921.7 kB/s eta 0:00:07\n",
            "   ------------------ --------------------- 5.5/11.8 MB 921.7 kB/s eta 0:00:07\n",
            "   ------------------- -------------------- 5.8/11.8 MB 887.5 kB/s eta 0:00:07\n",
            "   ------------------- -------------------- 5.8/11.8 MB 887.5 kB/s eta 0:00:07\n",
            "   -------------------- ------------------- 6.0/11.8 MB 864.4 kB/s eta 0:00:07\n",
            "   -------------------- ------------------- 6.0/11.8 MB 864.4 kB/s eta 0:00:07\n",
            "   --------------------- ------------------ 6.3/11.8 MB 853.6 kB/s eta 0:00:07\n",
            "   --------------------- ------------------ 6.3/11.8 MB 853.6 kB/s eta 0:00:07\n",
            "   ---------------------- ----------------- 6.6/11.8 MB 844.1 kB/s eta 0:00:07\n",
            "   ---------------------- ----------------- 6.6/11.8 MB 844.1 kB/s eta 0:00:07\n",
            "   ----------------------- ---------------- 6.8/11.8 MB 837.2 kB/s eta 0:00:06\n",
            "   ------------------------ --------------- 7.1/11.8 MB 838.9 kB/s eta 0:00:06\n",
            "   ------------------------ --------------- 7.1/11.8 MB 838.9 kB/s eta 0:00:06\n",
            "   ------------------------ --------------- 7.3/11.8 MB 835.7 kB/s eta 0:00:06\n",
            "   ------------------------- -------------- 7.6/11.8 MB 837.3 kB/s eta 0:00:06\n",
            "   -------------------------- ------------- 7.9/11.8 MB 841.7 kB/s eta 0:00:05\n",
            "   -------------------------- ------------- 7.9/11.8 MB 841.7 kB/s eta 0:00:05\n",
            "   --------------------------- ------------ 8.1/11.8 MB 847.3 kB/s eta 0:00:05\n",
            "   ---------------------------- ----------- 8.4/11.8 MB 854.0 kB/s eta 0:00:04\n",
            "   ----------------------------- ---------- 8.7/11.8 MB 860.4 kB/s eta 0:00:04\n",
            "   ------------------------------ --------- 8.9/11.8 MB 869.2 kB/s eta 0:00:04\n",
            "   ------------------------------- -------- 9.2/11.8 MB 876.2 kB/s eta 0:00:03\n",
            "   ------------------------------- -------- 9.2/11.8 MB 876.2 kB/s eta 0:00:03\n",
            "   -------------------------------- ------- 9.4/11.8 MB 871.2 kB/s eta 0:00:03\n",
            "   --------------------------------- ------ 10.0/11.8 MB 890.6 kB/s eta 0:00:03\n",
            "   ---------------------------------- ----- 10.2/11.8 MB 901.7 kB/s eta 0:00:02\n",
            "   ------------------------------------ --- 10.7/11.8 MB 925.6 kB/s eta 0:00:02\n",
            "   ------------------------------------- -- 11.0/11.8 MB 938.4 kB/s eta 0:00:01\n",
            "   -------------------------------------- - 11.3/11.8 MB 948.3 kB/s eta 0:00:01\n",
            "   ---------------------------------------  11.5/11.8 MB 943.0 kB/s eta 0:00:01\n",
            "   ---------------------------------------  11.5/11.8 MB 943.0 kB/s eta 0:00:01\n",
            "   ---------------------------------------- 11.8/11.8 MB 936.5 kB/s eta 0:00:00\n",
            "Using cached catalogue-2.0.10-py3-none-any.whl (17 kB)\n",
            "Using cached cymem-2.0.11-cp312-cp312-win_amd64.whl (39 kB)\n",
            "Using cached langcodes-3.5.0-py3-none-any.whl (182 kB)\n",
            "Using cached murmurhash-1.0.12-cp312-cp312-win_amd64.whl (25 kB)\n",
            "Using cached preshed-3.0.9-cp312-cp312-win_amd64.whl (122 kB)\n",
            "Using cached spacy_legacy-3.0.12-py2.py3-none-any.whl (29 kB)\n",
            "Using cached spacy_loggers-1.0.5-py3-none-any.whl (22 kB)\n",
            "Using cached srsly-2.5.1-cp312-cp312-win_amd64.whl (632 kB)\n",
            "Using cached thinc-8.3.6-cp312-cp312-win_amd64.whl (1.7 MB)\n",
            "Using cached wasabi-1.1.3-py3-none-any.whl (27 kB)\n",
            "Using cached weasel-0.4.1-py3-none-any.whl (50 kB)\n",
            "Using cached blis-1.3.0-cp312-cp312-win_amd64.whl (6.3 MB)\n",
            "Using cached cloudpathlib-0.21.0-py3-none-any.whl (52 kB)\n",
            "Using cached confection-0.1.5-py3-none-any.whl (35 kB)\n",
            "Using cached language_data-1.3.0-py3-none-any.whl (5.4 MB)\n",
            "Using cached smart_open-7.1.0-py3-none-any.whl (61 kB)\n",
            "Using cached marisa_trie-1.2.1-cp312-cp312-win_amd64.whl (150 kB)\n",
            "Installing collected packages: cymem, wasabi, spacy-loggers, spacy-legacy, smart-open, murmurhash, marisa-trie, cloudpathlib, catalogue, blis, srsly, preshed, language-data, langcodes, confection, weasel, thinc, spacy\n",
            "Successfully installed blis-1.3.0 catalogue-2.0.10 cloudpathlib-0.21.0 confection-0.1.5 cymem-2.0.11 langcodes-3.5.0 language-data-1.3.0 marisa-trie-1.2.1 murmurhash-1.0.12 preshed-3.0.9 smart-open-7.1.0 spacy-3.8.5 spacy-legacy-3.0.12 spacy-loggers-1.0.5 srsly-2.5.1 thinc-8.3.6 wasabi-1.1.3 weasel-0.4.1\n",
            "Note: you may need to restart the kernel to use updated packages.\n"
          ]
        },
        {
          "name": "stderr",
          "output_type": "stream",
          "text": [
            "\n",
            "[notice] A new release of pip is available: 25.0.1 -> 25.1\n",
            "[notice] To update, run: python.exe -m pip install --upgrade pip\n"
          ]
        }
      ],
      "source": [
        "%pip install spacy"
      ]
    },
    {
      "cell_type": "code",
      "execution_count": 4,
      "metadata": {
        "colab": {
          "base_uri": "https://localhost:8080/"
        },
        "id": "YpFTc-jcTn-s",
        "outputId": "45b2e451-0bdb-41a8-ca5d-725a8cd3b147"
      },
      "outputs": [
        {
          "name": "stdout",
          "output_type": "stream",
          "text": [
            "[\n",
            "    {'player': 'Fernando Iro', 'action': 'attack'},\n",
            "    {'player': 'Ramos', 'action': 'attack'},\n",
            "    {'player': 'Fernando Santos', 'action': 'attack'},\n",
            "    {'player': 'Fernando Iro', 'action': 'kickoff'},\n",
            "    {'player': 'Ramos', 'action': 'kickoff'},\n",
            "    {'player': 'Fernando Santos', 'action': 'kickoff'},\n",
            "    {'player': 'Jose Font', 'action': 'shot'},\n",
            "    {'player': 'Pepe', 'action': 'shot'},\n",
            "    {'player': 'Fernando Santos', 'action': 'shot'},\n",
            "    {'player': 'Fernando Eero', 'action': 'shot'},\n",
            "    {'player': 'Ronaldo', 'action': 'goal'},\n",
            "    {'player': 'Ronaldo', 'action': 'penalty'},\n",
            "    {'player': 'Fernando Eero', 'action': 'goal'},\n",
            "    {'player': 'Ramos', 'action': 'goal'},\n",
            "    {'player': 'Albert', 'action': 'goal'},\n",
            "    {'player': 'Fernando Eero', 'action': 'penalty'},\n",
            "    {'player': 'Ramos', 'action': 'penalty'},\n",
            "    {'player': 'Albert', 'action': 'penalty'},\n",
            "    {'player': 'Pepe', 'action': 'pass'},\n",
            "    {'player': 'Pepe', 'action': 'foul'},\n",
            "    {'player': 'Bruno Fernandez', 'action': 'yellow card'},\n",
            "    {'player': 'Costa', 'action': 'penalty'},\n",
            "    {'player': 'Ronaldo', 'action': 'shot'},\n",
            "    {'player': 'David', 'action': 'goal'},\n",
            "    {'player': 'David', 'action': 'shot'},\n",
            "    {'player': 'Ronaldo', 'action': 'yellow card'},\n",
            "]\n"
          ]
        }
      ],
      "source": [
        "import spacy\n",
        "import re\n",
        "from collections import Counter\n",
        "\n",
        "# Charger le modèle spaCy\n",
        "nlp = spacy.load(\"en_core_web_sm\")\n",
        "\n",
        "def extract_football_events(text):\n",
        "    # Traitement du texte avec spaCy\n",
        "    doc = nlp(text)\n",
        "\n",
        "    # Étape 1: Détection des noms de joueurs\n",
        "    player_counter = Counter()\n",
        "\n",
        "    # Règles pour filtrer les vrais joueurs\n",
        "    def is_likely_player(entity):\n",
        "        return (entity.label_ == \"PERSON\" and\n",
        "                entity.text.istitle() and\n",
        "                len(entity.text.split()) <= 3 and\n",
        "                entity.text not in ['Portugal', 'Spain', 'Referee'])\n",
        "\n",
        "    # Compter les occurrences des noms\n",
        "    for ent in doc.ents:\n",
        "        if is_likely_player(ent):\n",
        "            player_counter[ent.text] += 1\n",
        "\n",
        "    # Garder les noms mentionnés au moins 2 fois\n",
        "    confirmed_players = [player for player, count in player_counter.items() if count >= 2]\n",
        "\n",
        "    # Normalisation des noms des joueurs pour éviter les doublons (\"Cristiano Ronaldo\" et \"Ronaldo\")\n",
        "    def normalize_player_name(player_name):\n",
        "        normalization_map = {\n",
        "            \"Cristiano Ronaldo\": \"Ronaldo\",\n",
        "            \"Pepe\": \"Pepe\",  # Exemple de nom à normaliser si nécessaire\n",
        "            # Ajoutez d'autres règles si nécessaire\n",
        "        }\n",
        "        return normalization_map.get(player_name, player_name)  # Retourne le nom normalisé ou le nom original\n",
        "\n",
        "    # Étape 2: Détection des actions\n",
        "    action_patterns = {\n",
        "        'goal': r'\\b(goal|score[sd]|net[sd]|finish(?:es|ed)|converted)\\b',\n",
        "        'penalty': r'\\b(penalty|penalties|spot kick|PK)\\b',\n",
        "        'yellow card': r'\\b(yellow card|booked|cautioned|first warning)\\b',\n",
        "        'red card': r'\\b(red card|sent off|ejection|dismissed)\\b',\n",
        "        'substitute': r'\\b(sub(?:s|stitution)|replaced|coming on|brought on)\\b',\n",
        "        'assist': r'\\b(assist(?:sd)?|setup|provided the cross|laid off)\\b',\n",
        "        'pass': r'\\b(pass(?:es|ed)|cross(?:es|ed)|through ball|long ball|short pass)\\b',\n",
        "        'attack': r'\\b(attack|breakaway|counterattack|going forward)\\b',\n",
        "        'offside': r'\\b(offside|in an offside position)\\b',\n",
        "        'corner': r'\\b(corner kick|flag kick)\\b',\n",
        "        'free kick': r'\\b(free kick|direct free kick|set piece)\\b',\n",
        "        'shot': r'\\b(shot|strike[sd]|hit[sd]|attempt[sd]|volley|half volley)\\b',\n",
        "        'kickoff': r'\\b(kick[-\\s]?off|start(?:ed|ing) the match)\\b',\n",
        "        'foul': r'\\b(foul[sd]?|illegal challenge|reckless tackle)\\b',\n",
        "        'header': r'\\b(header|headed|with the head)\\b',\n",
        "        'save': r'\\b(save[sd]?|block[sd]|denie[sd]|stop[sd]|parr(?:y|ied))\\b',\n",
        "        'tackle': r'\\b(tackle[sd]?|intercept[sd]?|won the ball)\\b'\n",
        "    }\n",
        "\n",
        "    # Étape 3: Association joueurs-actions\n",
        "    events = []\n",
        "    previous_player_action = {}  # Dictionnaire pour suivre les actions précédentes des joueurs\n",
        "\n",
        "    for sent in doc.sents:\n",
        "        current_players = [normalize_player_name(ent.text) for ent in sent.ents if normalize_player_name(ent.text) in confirmed_players]\n",
        "\n",
        "        for action, pattern in action_patterns.items():\n",
        "            if re.search(pattern, sent.text, re.IGNORECASE):\n",
        "                for player in current_players:\n",
        "                    # Vérifier si l'action pour ce joueur a déjà été enregistrée\n",
        "                    if (player, action) not in previous_player_action:\n",
        "                        events.append({\n",
        "                            'player': player,\n",
        "                            'action': action\n",
        "                        })\n",
        "                        previous_player_action[(player, action)] = True  # Marquer cette action comme déjà ajoutée\n",
        "\n",
        "    # Étape 4: Nettoyage des résultats pour éviter les doublons\n",
        "    unique_events = []\n",
        "    seen = set()\n",
        "\n",
        "    for event in events:\n",
        "        key = (event['player'], event['action'])\n",
        "        if key not in seen:\n",
        "            seen.add(key)\n",
        "            unique_events.append(event)\n",
        "\n",
        "    return unique_events\n",
        "\n",
        "# Utilisation\n",
        "with open(\"transcription_finale.txt\", \"r\", encoding=\"utf-8\") as f:\n",
        "    text = f.read()\n",
        "\n",
        "events = extract_football_events(text)\n",
        "\n",
        "# Affichage de tous les résultats dans le format demandé\n",
        "print(\"[\")\n",
        "for event in events:\n",
        "    print(f\"    {event},\")\n",
        "print(\"]\")\n"
      ]
    },
    {
      "cell_type": "code",
      "execution_count": 5,
      "metadata": {
        "colab": {
          "base_uri": "https://localhost:8080/",
          "height": 542
        },
        "id": "PiVo-ra7M5RR",
        "outputId": "046edcdb-6ee0-407c-a7d7-76b151d7f79b"
      },
      "outputs": [
        {
          "data": {
            "application/vnd.plotly.v1+json": {
              "config": {
                "plotlyServerURL": "https://plot.ly"
              },
              "data": [
                {
                  "hovertemplate": "Player=%{x}<br>Number of Actions=%{y}<br>color=%{marker.color}<extra></extra>",
                  "legendgroup": "",
                  "marker": {
                    "color": {
                      "bdata": "AgQDAQMDBAIBAQI=",
                      "dtype": "i1"
                    },
                    "coloraxis": "coloraxis",
                    "pattern": {
                      "shape": ""
                    }
                  },
                  "name": "",
                  "orientation": "v",
                  "showlegend": false,
                  "textposition": "auto",
                  "type": "bar",
                  "x": [
                    "Fernando Iro",
                    "Ramos",
                    "Fernando Santos",
                    "Jose Font",
                    "Pepe",
                    "Fernando Eero",
                    "Ronaldo",
                    "Albert",
                    "Bruno Fernandez",
                    "Costa",
                    "David"
                  ],
                  "xaxis": "x",
                  "y": {
                    "bdata": "AgQDAQMDBAIBAQI=",
                    "dtype": "i1"
                  },
                  "yaxis": "y"
                }
              ],
              "layout": {
                "barmode": "relative",
                "coloraxis": {
                  "colorbar": {
                    "title": {
                      "text": "color"
                    }
                  },
                  "colorscale": [
                    [
                      0,
                      "#440154"
                    ],
                    [
                      0.1111111111111111,
                      "#482878"
                    ],
                    [
                      0.2222222222222222,
                      "#3e4989"
                    ],
                    [
                      0.3333333333333333,
                      "#31688e"
                    ],
                    [
                      0.4444444444444444,
                      "#26828e"
                    ],
                    [
                      0.5555555555555556,
                      "#1f9e89"
                    ],
                    [
                      0.6666666666666666,
                      "#35b779"
                    ],
                    [
                      0.7777777777777778,
                      "#6ece58"
                    ],
                    [
                      0.8888888888888888,
                      "#b5de2b"
                    ],
                    [
                      1,
                      "#fde725"
                    ]
                  ]
                },
                "legend": {
                  "tracegroupgap": 0
                },
                "template": {
                  "data": {
                    "bar": [
                      {
                        "error_x": {
                          "color": "#2a3f5f"
                        },
                        "error_y": {
                          "color": "#2a3f5f"
                        },
                        "marker": {
                          "line": {
                            "color": "#E5ECF6",
                            "width": 0.5
                          },
                          "pattern": {
                            "fillmode": "overlay",
                            "size": 10,
                            "solidity": 0.2
                          }
                        },
                        "type": "bar"
                      }
                    ],
                    "barpolar": [
                      {
                        "marker": {
                          "line": {
                            "color": "#E5ECF6",
                            "width": 0.5
                          },
                          "pattern": {
                            "fillmode": "overlay",
                            "size": 10,
                            "solidity": 0.2
                          }
                        },
                        "type": "barpolar"
                      }
                    ],
                    "carpet": [
                      {
                        "aaxis": {
                          "endlinecolor": "#2a3f5f",
                          "gridcolor": "white",
                          "linecolor": "white",
                          "minorgridcolor": "white",
                          "startlinecolor": "#2a3f5f"
                        },
                        "baxis": {
                          "endlinecolor": "#2a3f5f",
                          "gridcolor": "white",
                          "linecolor": "white",
                          "minorgridcolor": "white",
                          "startlinecolor": "#2a3f5f"
                        },
                        "type": "carpet"
                      }
                    ],
                    "choropleth": [
                      {
                        "colorbar": {
                          "outlinewidth": 0,
                          "ticks": ""
                        },
                        "type": "choropleth"
                      }
                    ],
                    "contour": [
                      {
                        "colorbar": {
                          "outlinewidth": 0,
                          "ticks": ""
                        },
                        "colorscale": [
                          [
                            0,
                            "#0d0887"
                          ],
                          [
                            0.1111111111111111,
                            "#46039f"
                          ],
                          [
                            0.2222222222222222,
                            "#7201a8"
                          ],
                          [
                            0.3333333333333333,
                            "#9c179e"
                          ],
                          [
                            0.4444444444444444,
                            "#bd3786"
                          ],
                          [
                            0.5555555555555556,
                            "#d8576b"
                          ],
                          [
                            0.6666666666666666,
                            "#ed7953"
                          ],
                          [
                            0.7777777777777778,
                            "#fb9f3a"
                          ],
                          [
                            0.8888888888888888,
                            "#fdca26"
                          ],
                          [
                            1,
                            "#f0f921"
                          ]
                        ],
                        "type": "contour"
                      }
                    ],
                    "contourcarpet": [
                      {
                        "colorbar": {
                          "outlinewidth": 0,
                          "ticks": ""
                        },
                        "type": "contourcarpet"
                      }
                    ],
                    "heatmap": [
                      {
                        "colorbar": {
                          "outlinewidth": 0,
                          "ticks": ""
                        },
                        "colorscale": [
                          [
                            0,
                            "#0d0887"
                          ],
                          [
                            0.1111111111111111,
                            "#46039f"
                          ],
                          [
                            0.2222222222222222,
                            "#7201a8"
                          ],
                          [
                            0.3333333333333333,
                            "#9c179e"
                          ],
                          [
                            0.4444444444444444,
                            "#bd3786"
                          ],
                          [
                            0.5555555555555556,
                            "#d8576b"
                          ],
                          [
                            0.6666666666666666,
                            "#ed7953"
                          ],
                          [
                            0.7777777777777778,
                            "#fb9f3a"
                          ],
                          [
                            0.8888888888888888,
                            "#fdca26"
                          ],
                          [
                            1,
                            "#f0f921"
                          ]
                        ],
                        "type": "heatmap"
                      }
                    ],
                    "histogram": [
                      {
                        "marker": {
                          "pattern": {
                            "fillmode": "overlay",
                            "size": 10,
                            "solidity": 0.2
                          }
                        },
                        "type": "histogram"
                      }
                    ],
                    "histogram2d": [
                      {
                        "colorbar": {
                          "outlinewidth": 0,
                          "ticks": ""
                        },
                        "colorscale": [
                          [
                            0,
                            "#0d0887"
                          ],
                          [
                            0.1111111111111111,
                            "#46039f"
                          ],
                          [
                            0.2222222222222222,
                            "#7201a8"
                          ],
                          [
                            0.3333333333333333,
                            "#9c179e"
                          ],
                          [
                            0.4444444444444444,
                            "#bd3786"
                          ],
                          [
                            0.5555555555555556,
                            "#d8576b"
                          ],
                          [
                            0.6666666666666666,
                            "#ed7953"
                          ],
                          [
                            0.7777777777777778,
                            "#fb9f3a"
                          ],
                          [
                            0.8888888888888888,
                            "#fdca26"
                          ],
                          [
                            1,
                            "#f0f921"
                          ]
                        ],
                        "type": "histogram2d"
                      }
                    ],
                    "histogram2dcontour": [
                      {
                        "colorbar": {
                          "outlinewidth": 0,
                          "ticks": ""
                        },
                        "colorscale": [
                          [
                            0,
                            "#0d0887"
                          ],
                          [
                            0.1111111111111111,
                            "#46039f"
                          ],
                          [
                            0.2222222222222222,
                            "#7201a8"
                          ],
                          [
                            0.3333333333333333,
                            "#9c179e"
                          ],
                          [
                            0.4444444444444444,
                            "#bd3786"
                          ],
                          [
                            0.5555555555555556,
                            "#d8576b"
                          ],
                          [
                            0.6666666666666666,
                            "#ed7953"
                          ],
                          [
                            0.7777777777777778,
                            "#fb9f3a"
                          ],
                          [
                            0.8888888888888888,
                            "#fdca26"
                          ],
                          [
                            1,
                            "#f0f921"
                          ]
                        ],
                        "type": "histogram2dcontour"
                      }
                    ],
                    "mesh3d": [
                      {
                        "colorbar": {
                          "outlinewidth": 0,
                          "ticks": ""
                        },
                        "type": "mesh3d"
                      }
                    ],
                    "parcoords": [
                      {
                        "line": {
                          "colorbar": {
                            "outlinewidth": 0,
                            "ticks": ""
                          }
                        },
                        "type": "parcoords"
                      }
                    ],
                    "pie": [
                      {
                        "automargin": true,
                        "type": "pie"
                      }
                    ],
                    "scatter": [
                      {
                        "fillpattern": {
                          "fillmode": "overlay",
                          "size": 10,
                          "solidity": 0.2
                        },
                        "type": "scatter"
                      }
                    ],
                    "scatter3d": [
                      {
                        "line": {
                          "colorbar": {
                            "outlinewidth": 0,
                            "ticks": ""
                          }
                        },
                        "marker": {
                          "colorbar": {
                            "outlinewidth": 0,
                            "ticks": ""
                          }
                        },
                        "type": "scatter3d"
                      }
                    ],
                    "scattercarpet": [
                      {
                        "marker": {
                          "colorbar": {
                            "outlinewidth": 0,
                            "ticks": ""
                          }
                        },
                        "type": "scattercarpet"
                      }
                    ],
                    "scattergeo": [
                      {
                        "marker": {
                          "colorbar": {
                            "outlinewidth": 0,
                            "ticks": ""
                          }
                        },
                        "type": "scattergeo"
                      }
                    ],
                    "scattergl": [
                      {
                        "marker": {
                          "colorbar": {
                            "outlinewidth": 0,
                            "ticks": ""
                          }
                        },
                        "type": "scattergl"
                      }
                    ],
                    "scattermap": [
                      {
                        "marker": {
                          "colorbar": {
                            "outlinewidth": 0,
                            "ticks": ""
                          }
                        },
                        "type": "scattermap"
                      }
                    ],
                    "scattermapbox": [
                      {
                        "marker": {
                          "colorbar": {
                            "outlinewidth": 0,
                            "ticks": ""
                          }
                        },
                        "type": "scattermapbox"
                      }
                    ],
                    "scatterpolar": [
                      {
                        "marker": {
                          "colorbar": {
                            "outlinewidth": 0,
                            "ticks": ""
                          }
                        },
                        "type": "scatterpolar"
                      }
                    ],
                    "scatterpolargl": [
                      {
                        "marker": {
                          "colorbar": {
                            "outlinewidth": 0,
                            "ticks": ""
                          }
                        },
                        "type": "scatterpolargl"
                      }
                    ],
                    "scatterternary": [
                      {
                        "marker": {
                          "colorbar": {
                            "outlinewidth": 0,
                            "ticks": ""
                          }
                        },
                        "type": "scatterternary"
                      }
                    ],
                    "surface": [
                      {
                        "colorbar": {
                          "outlinewidth": 0,
                          "ticks": ""
                        },
                        "colorscale": [
                          [
                            0,
                            "#0d0887"
                          ],
                          [
                            0.1111111111111111,
                            "#46039f"
                          ],
                          [
                            0.2222222222222222,
                            "#7201a8"
                          ],
                          [
                            0.3333333333333333,
                            "#9c179e"
                          ],
                          [
                            0.4444444444444444,
                            "#bd3786"
                          ],
                          [
                            0.5555555555555556,
                            "#d8576b"
                          ],
                          [
                            0.6666666666666666,
                            "#ed7953"
                          ],
                          [
                            0.7777777777777778,
                            "#fb9f3a"
                          ],
                          [
                            0.8888888888888888,
                            "#fdca26"
                          ],
                          [
                            1,
                            "#f0f921"
                          ]
                        ],
                        "type": "surface"
                      }
                    ],
                    "table": [
                      {
                        "cells": {
                          "fill": {
                            "color": "#EBF0F8"
                          },
                          "line": {
                            "color": "white"
                          }
                        },
                        "header": {
                          "fill": {
                            "color": "#C8D4E3"
                          },
                          "line": {
                            "color": "white"
                          }
                        },
                        "type": "table"
                      }
                    ]
                  },
                  "layout": {
                    "annotationdefaults": {
                      "arrowcolor": "#2a3f5f",
                      "arrowhead": 0,
                      "arrowwidth": 1
                    },
                    "autotypenumbers": "strict",
                    "coloraxis": {
                      "colorbar": {
                        "outlinewidth": 0,
                        "ticks": ""
                      }
                    },
                    "colorscale": {
                      "diverging": [
                        [
                          0,
                          "#8e0152"
                        ],
                        [
                          0.1,
                          "#c51b7d"
                        ],
                        [
                          0.2,
                          "#de77ae"
                        ],
                        [
                          0.3,
                          "#f1b6da"
                        ],
                        [
                          0.4,
                          "#fde0ef"
                        ],
                        [
                          0.5,
                          "#f7f7f7"
                        ],
                        [
                          0.6,
                          "#e6f5d0"
                        ],
                        [
                          0.7,
                          "#b8e186"
                        ],
                        [
                          0.8,
                          "#7fbc41"
                        ],
                        [
                          0.9,
                          "#4d9221"
                        ],
                        [
                          1,
                          "#276419"
                        ]
                      ],
                      "sequential": [
                        [
                          0,
                          "#0d0887"
                        ],
                        [
                          0.1111111111111111,
                          "#46039f"
                        ],
                        [
                          0.2222222222222222,
                          "#7201a8"
                        ],
                        [
                          0.3333333333333333,
                          "#9c179e"
                        ],
                        [
                          0.4444444444444444,
                          "#bd3786"
                        ],
                        [
                          0.5555555555555556,
                          "#d8576b"
                        ],
                        [
                          0.6666666666666666,
                          "#ed7953"
                        ],
                        [
                          0.7777777777777778,
                          "#fb9f3a"
                        ],
                        [
                          0.8888888888888888,
                          "#fdca26"
                        ],
                        [
                          1,
                          "#f0f921"
                        ]
                      ],
                      "sequentialminus": [
                        [
                          0,
                          "#0d0887"
                        ],
                        [
                          0.1111111111111111,
                          "#46039f"
                        ],
                        [
                          0.2222222222222222,
                          "#7201a8"
                        ],
                        [
                          0.3333333333333333,
                          "#9c179e"
                        ],
                        [
                          0.4444444444444444,
                          "#bd3786"
                        ],
                        [
                          0.5555555555555556,
                          "#d8576b"
                        ],
                        [
                          0.6666666666666666,
                          "#ed7953"
                        ],
                        [
                          0.7777777777777778,
                          "#fb9f3a"
                        ],
                        [
                          0.8888888888888888,
                          "#fdca26"
                        ],
                        [
                          1,
                          "#f0f921"
                        ]
                      ]
                    },
                    "colorway": [
                      "#636efa",
                      "#EF553B",
                      "#00cc96",
                      "#ab63fa",
                      "#FFA15A",
                      "#19d3f3",
                      "#FF6692",
                      "#B6E880",
                      "#FF97FF",
                      "#FECB52"
                    ],
                    "font": {
                      "color": "#2a3f5f"
                    },
                    "geo": {
                      "bgcolor": "white",
                      "lakecolor": "white",
                      "landcolor": "#E5ECF6",
                      "showlakes": true,
                      "showland": true,
                      "subunitcolor": "white"
                    },
                    "hoverlabel": {
                      "align": "left"
                    },
                    "hovermode": "closest",
                    "mapbox": {
                      "style": "light"
                    },
                    "paper_bgcolor": "white",
                    "plot_bgcolor": "#E5ECF6",
                    "polar": {
                      "angularaxis": {
                        "gridcolor": "white",
                        "linecolor": "white",
                        "ticks": ""
                      },
                      "bgcolor": "#E5ECF6",
                      "radialaxis": {
                        "gridcolor": "white",
                        "linecolor": "white",
                        "ticks": ""
                      }
                    },
                    "scene": {
                      "xaxis": {
                        "backgroundcolor": "#E5ECF6",
                        "gridcolor": "white",
                        "gridwidth": 2,
                        "linecolor": "white",
                        "showbackground": true,
                        "ticks": "",
                        "zerolinecolor": "white"
                      },
                      "yaxis": {
                        "backgroundcolor": "#E5ECF6",
                        "gridcolor": "white",
                        "gridwidth": 2,
                        "linecolor": "white",
                        "showbackground": true,
                        "ticks": "",
                        "zerolinecolor": "white"
                      },
                      "zaxis": {
                        "backgroundcolor": "#E5ECF6",
                        "gridcolor": "white",
                        "gridwidth": 2,
                        "linecolor": "white",
                        "showbackground": true,
                        "ticks": "",
                        "zerolinecolor": "white"
                      }
                    },
                    "shapedefaults": {
                      "line": {
                        "color": "#2a3f5f"
                      }
                    },
                    "ternary": {
                      "aaxis": {
                        "gridcolor": "white",
                        "linecolor": "white",
                        "ticks": ""
                      },
                      "baxis": {
                        "gridcolor": "white",
                        "linecolor": "white",
                        "ticks": ""
                      },
                      "bgcolor": "#E5ECF6",
                      "caxis": {
                        "gridcolor": "white",
                        "linecolor": "white",
                        "ticks": ""
                      }
                    },
                    "title": {
                      "x": 0.05
                    },
                    "xaxis": {
                      "automargin": true,
                      "gridcolor": "white",
                      "linecolor": "white",
                      "ticks": "",
                      "title": {
                        "standoff": 15
                      },
                      "zerolinecolor": "white",
                      "zerolinewidth": 2
                    },
                    "yaxis": {
                      "automargin": true,
                      "gridcolor": "white",
                      "linecolor": "white",
                      "ticks": "",
                      "title": {
                        "standoff": 15
                      },
                      "zerolinecolor": "white",
                      "zerolinewidth": 2
                    }
                  }
                },
                "title": {
                  "text": "Number of Actions per Player"
                },
                "xaxis": {
                  "anchor": "y",
                  "domain": [
                    0,
                    1
                  ],
                  "title": {
                    "text": "Player"
                  }
                },
                "yaxis": {
                  "anchor": "x",
                  "domain": [
                    0,
                    1
                  ],
                  "title": {
                    "text": "Number of Actions"
                  }
                }
              }
            }
          },
          "metadata": {},
          "output_type": "display_data"
        }
      ],
      "source": [
        "import plotly.express as px\n",
        "from collections import Counter\n",
        "\n",
        "# Appliquer la fonction d'extraction d'événements que vous avez déjà définie\n",
        "events = extract_football_events(text)\n",
        "\n",
        "# Initialiser un dictionnaire pour compter les actions uniques par joueur\n",
        "player_actions = Counter()\n",
        "\n",
        "# Traiter les événements pour compter chaque action unique par joueur\n",
        "for event in events:\n",
        "    player_actions[event['player']] += 1\n",
        "\n",
        "# Préparer les données pour Plotly\n",
        "players = list(player_actions.keys())\n",
        "action_counts = list(player_actions.values())\n",
        "\n",
        "# Créer le graphique avec Plotly\n",
        "fig = px.bar(x=players, y=action_counts,\n",
        "             labels={'x':'Player', 'y':'Number of Actions'},\n",
        "             title='Number of Actions per Player',\n",
        "             color=action_counts,  # Couleur basée sur le nombre d'actions\n",
        "             color_continuous_scale='Viridis')  # Échelle de couleurs\n",
        "\n",
        "# Afficher le graphique\n",
        "fig.show()\n"
      ]
    },
    {
      "cell_type": "code",
      "execution_count": 6,
      "metadata": {
        "colab": {
          "base_uri": "https://localhost:8080/",
          "height": 542
        },
        "id": "IG4_q-cvNrTC",
        "outputId": "1facd217-44c9-4a60-a324-212ca0f68753"
      },
      "outputs": [
        {
          "data": {
            "application/vnd.plotly.v1+json": {
              "config": {
                "plotlyServerURL": "https://plot.ly"
              },
              "data": [
                {
                  "hovertemplate": "color=attack<br>Action Type=%{x}<br>Number of Actions=%{y}<extra></extra>",
                  "legendgroup": "attack",
                  "marker": {
                    "color": "rgb(141,211,199)",
                    "pattern": {
                      "shape": ""
                    }
                  },
                  "name": "attack",
                  "orientation": "v",
                  "showlegend": true,
                  "textposition": "auto",
                  "type": "bar",
                  "x": [
                    "attack"
                  ],
                  "xaxis": "x",
                  "y": {
                    "bdata": "Aw==",
                    "dtype": "i1"
                  },
                  "yaxis": "y"
                },
                {
                  "hovertemplate": "color=kickoff<br>Action Type=%{x}<br>Number of Actions=%{y}<extra></extra>",
                  "legendgroup": "kickoff",
                  "marker": {
                    "color": "rgb(255,255,179)",
                    "pattern": {
                      "shape": ""
                    }
                  },
                  "name": "kickoff",
                  "orientation": "v",
                  "showlegend": true,
                  "textposition": "auto",
                  "type": "bar",
                  "x": [
                    "kickoff"
                  ],
                  "xaxis": "x",
                  "y": {
                    "bdata": "Aw==",
                    "dtype": "i1"
                  },
                  "yaxis": "y"
                },
                {
                  "hovertemplate": "color=shot<br>Action Type=%{x}<br>Number of Actions=%{y}<extra></extra>",
                  "legendgroup": "shot",
                  "marker": {
                    "color": "rgb(190,186,218)",
                    "pattern": {
                      "shape": ""
                    }
                  },
                  "name": "shot",
                  "orientation": "v",
                  "showlegend": true,
                  "textposition": "auto",
                  "type": "bar",
                  "x": [
                    "shot"
                  ],
                  "xaxis": "x",
                  "y": {
                    "bdata": "Bg==",
                    "dtype": "i1"
                  },
                  "yaxis": "y"
                },
                {
                  "hovertemplate": "color=goal<br>Action Type=%{x}<br>Number of Actions=%{y}<extra></extra>",
                  "legendgroup": "goal",
                  "marker": {
                    "color": "rgb(251,128,114)",
                    "pattern": {
                      "shape": ""
                    }
                  },
                  "name": "goal",
                  "orientation": "v",
                  "showlegend": true,
                  "textposition": "auto",
                  "type": "bar",
                  "x": [
                    "goal"
                  ],
                  "xaxis": "x",
                  "y": {
                    "bdata": "BQ==",
                    "dtype": "i1"
                  },
                  "yaxis": "y"
                },
                {
                  "hovertemplate": "color=penalty<br>Action Type=%{x}<br>Number of Actions=%{y}<extra></extra>",
                  "legendgroup": "penalty",
                  "marker": {
                    "color": "rgb(128,177,211)",
                    "pattern": {
                      "shape": ""
                    }
                  },
                  "name": "penalty",
                  "orientation": "v",
                  "showlegend": true,
                  "textposition": "auto",
                  "type": "bar",
                  "x": [
                    "penalty"
                  ],
                  "xaxis": "x",
                  "y": {
                    "bdata": "BQ==",
                    "dtype": "i1"
                  },
                  "yaxis": "y"
                },
                {
                  "hovertemplate": "color=pass<br>Action Type=%{x}<br>Number of Actions=%{y}<extra></extra>",
                  "legendgroup": "pass",
                  "marker": {
                    "color": "rgb(253,180,98)",
                    "pattern": {
                      "shape": ""
                    }
                  },
                  "name": "pass",
                  "orientation": "v",
                  "showlegend": true,
                  "textposition": "auto",
                  "type": "bar",
                  "x": [
                    "pass"
                  ],
                  "xaxis": "x",
                  "y": {
                    "bdata": "AQ==",
                    "dtype": "i1"
                  },
                  "yaxis": "y"
                },
                {
                  "hovertemplate": "color=foul<br>Action Type=%{x}<br>Number of Actions=%{y}<extra></extra>",
                  "legendgroup": "foul",
                  "marker": {
                    "color": "rgb(179,222,105)",
                    "pattern": {
                      "shape": ""
                    }
                  },
                  "name": "foul",
                  "orientation": "v",
                  "showlegend": true,
                  "textposition": "auto",
                  "type": "bar",
                  "x": [
                    "foul"
                  ],
                  "xaxis": "x",
                  "y": {
                    "bdata": "AQ==",
                    "dtype": "i1"
                  },
                  "yaxis": "y"
                },
                {
                  "hovertemplate": "color=yellow card<br>Action Type=%{x}<br>Number of Actions=%{y}<extra></extra>",
                  "legendgroup": "yellow card",
                  "marker": {
                    "color": "rgb(252,205,229)",
                    "pattern": {
                      "shape": ""
                    }
                  },
                  "name": "yellow card",
                  "orientation": "v",
                  "showlegend": true,
                  "textposition": "auto",
                  "type": "bar",
                  "x": [
                    "yellow card"
                  ],
                  "xaxis": "x",
                  "y": {
                    "bdata": "Ag==",
                    "dtype": "i1"
                  },
                  "yaxis": "y"
                }
              ],
              "layout": {
                "barmode": "relative",
                "legend": {
                  "title": {
                    "text": "color"
                  },
                  "tracegroupgap": 0
                },
                "template": {
                  "data": {
                    "bar": [
                      {
                        "error_x": {
                          "color": "#2a3f5f"
                        },
                        "error_y": {
                          "color": "#2a3f5f"
                        },
                        "marker": {
                          "line": {
                            "color": "#E5ECF6",
                            "width": 0.5
                          },
                          "pattern": {
                            "fillmode": "overlay",
                            "size": 10,
                            "solidity": 0.2
                          }
                        },
                        "type": "bar"
                      }
                    ],
                    "barpolar": [
                      {
                        "marker": {
                          "line": {
                            "color": "#E5ECF6",
                            "width": 0.5
                          },
                          "pattern": {
                            "fillmode": "overlay",
                            "size": 10,
                            "solidity": 0.2
                          }
                        },
                        "type": "barpolar"
                      }
                    ],
                    "carpet": [
                      {
                        "aaxis": {
                          "endlinecolor": "#2a3f5f",
                          "gridcolor": "white",
                          "linecolor": "white",
                          "minorgridcolor": "white",
                          "startlinecolor": "#2a3f5f"
                        },
                        "baxis": {
                          "endlinecolor": "#2a3f5f",
                          "gridcolor": "white",
                          "linecolor": "white",
                          "minorgridcolor": "white",
                          "startlinecolor": "#2a3f5f"
                        },
                        "type": "carpet"
                      }
                    ],
                    "choropleth": [
                      {
                        "colorbar": {
                          "outlinewidth": 0,
                          "ticks": ""
                        },
                        "type": "choropleth"
                      }
                    ],
                    "contour": [
                      {
                        "colorbar": {
                          "outlinewidth": 0,
                          "ticks": ""
                        },
                        "colorscale": [
                          [
                            0,
                            "#0d0887"
                          ],
                          [
                            0.1111111111111111,
                            "#46039f"
                          ],
                          [
                            0.2222222222222222,
                            "#7201a8"
                          ],
                          [
                            0.3333333333333333,
                            "#9c179e"
                          ],
                          [
                            0.4444444444444444,
                            "#bd3786"
                          ],
                          [
                            0.5555555555555556,
                            "#d8576b"
                          ],
                          [
                            0.6666666666666666,
                            "#ed7953"
                          ],
                          [
                            0.7777777777777778,
                            "#fb9f3a"
                          ],
                          [
                            0.8888888888888888,
                            "#fdca26"
                          ],
                          [
                            1,
                            "#f0f921"
                          ]
                        ],
                        "type": "contour"
                      }
                    ],
                    "contourcarpet": [
                      {
                        "colorbar": {
                          "outlinewidth": 0,
                          "ticks": ""
                        },
                        "type": "contourcarpet"
                      }
                    ],
                    "heatmap": [
                      {
                        "colorbar": {
                          "outlinewidth": 0,
                          "ticks": ""
                        },
                        "colorscale": [
                          [
                            0,
                            "#0d0887"
                          ],
                          [
                            0.1111111111111111,
                            "#46039f"
                          ],
                          [
                            0.2222222222222222,
                            "#7201a8"
                          ],
                          [
                            0.3333333333333333,
                            "#9c179e"
                          ],
                          [
                            0.4444444444444444,
                            "#bd3786"
                          ],
                          [
                            0.5555555555555556,
                            "#d8576b"
                          ],
                          [
                            0.6666666666666666,
                            "#ed7953"
                          ],
                          [
                            0.7777777777777778,
                            "#fb9f3a"
                          ],
                          [
                            0.8888888888888888,
                            "#fdca26"
                          ],
                          [
                            1,
                            "#f0f921"
                          ]
                        ],
                        "type": "heatmap"
                      }
                    ],
                    "histogram": [
                      {
                        "marker": {
                          "pattern": {
                            "fillmode": "overlay",
                            "size": 10,
                            "solidity": 0.2
                          }
                        },
                        "type": "histogram"
                      }
                    ],
                    "histogram2d": [
                      {
                        "colorbar": {
                          "outlinewidth": 0,
                          "ticks": ""
                        },
                        "colorscale": [
                          [
                            0,
                            "#0d0887"
                          ],
                          [
                            0.1111111111111111,
                            "#46039f"
                          ],
                          [
                            0.2222222222222222,
                            "#7201a8"
                          ],
                          [
                            0.3333333333333333,
                            "#9c179e"
                          ],
                          [
                            0.4444444444444444,
                            "#bd3786"
                          ],
                          [
                            0.5555555555555556,
                            "#d8576b"
                          ],
                          [
                            0.6666666666666666,
                            "#ed7953"
                          ],
                          [
                            0.7777777777777778,
                            "#fb9f3a"
                          ],
                          [
                            0.8888888888888888,
                            "#fdca26"
                          ],
                          [
                            1,
                            "#f0f921"
                          ]
                        ],
                        "type": "histogram2d"
                      }
                    ],
                    "histogram2dcontour": [
                      {
                        "colorbar": {
                          "outlinewidth": 0,
                          "ticks": ""
                        },
                        "colorscale": [
                          [
                            0,
                            "#0d0887"
                          ],
                          [
                            0.1111111111111111,
                            "#46039f"
                          ],
                          [
                            0.2222222222222222,
                            "#7201a8"
                          ],
                          [
                            0.3333333333333333,
                            "#9c179e"
                          ],
                          [
                            0.4444444444444444,
                            "#bd3786"
                          ],
                          [
                            0.5555555555555556,
                            "#d8576b"
                          ],
                          [
                            0.6666666666666666,
                            "#ed7953"
                          ],
                          [
                            0.7777777777777778,
                            "#fb9f3a"
                          ],
                          [
                            0.8888888888888888,
                            "#fdca26"
                          ],
                          [
                            1,
                            "#f0f921"
                          ]
                        ],
                        "type": "histogram2dcontour"
                      }
                    ],
                    "mesh3d": [
                      {
                        "colorbar": {
                          "outlinewidth": 0,
                          "ticks": ""
                        },
                        "type": "mesh3d"
                      }
                    ],
                    "parcoords": [
                      {
                        "line": {
                          "colorbar": {
                            "outlinewidth": 0,
                            "ticks": ""
                          }
                        },
                        "type": "parcoords"
                      }
                    ],
                    "pie": [
                      {
                        "automargin": true,
                        "type": "pie"
                      }
                    ],
                    "scatter": [
                      {
                        "fillpattern": {
                          "fillmode": "overlay",
                          "size": 10,
                          "solidity": 0.2
                        },
                        "type": "scatter"
                      }
                    ],
                    "scatter3d": [
                      {
                        "line": {
                          "colorbar": {
                            "outlinewidth": 0,
                            "ticks": ""
                          }
                        },
                        "marker": {
                          "colorbar": {
                            "outlinewidth": 0,
                            "ticks": ""
                          }
                        },
                        "type": "scatter3d"
                      }
                    ],
                    "scattercarpet": [
                      {
                        "marker": {
                          "colorbar": {
                            "outlinewidth": 0,
                            "ticks": ""
                          }
                        },
                        "type": "scattercarpet"
                      }
                    ],
                    "scattergeo": [
                      {
                        "marker": {
                          "colorbar": {
                            "outlinewidth": 0,
                            "ticks": ""
                          }
                        },
                        "type": "scattergeo"
                      }
                    ],
                    "scattergl": [
                      {
                        "marker": {
                          "colorbar": {
                            "outlinewidth": 0,
                            "ticks": ""
                          }
                        },
                        "type": "scattergl"
                      }
                    ],
                    "scattermap": [
                      {
                        "marker": {
                          "colorbar": {
                            "outlinewidth": 0,
                            "ticks": ""
                          }
                        },
                        "type": "scattermap"
                      }
                    ],
                    "scattermapbox": [
                      {
                        "marker": {
                          "colorbar": {
                            "outlinewidth": 0,
                            "ticks": ""
                          }
                        },
                        "type": "scattermapbox"
                      }
                    ],
                    "scatterpolar": [
                      {
                        "marker": {
                          "colorbar": {
                            "outlinewidth": 0,
                            "ticks": ""
                          }
                        },
                        "type": "scatterpolar"
                      }
                    ],
                    "scatterpolargl": [
                      {
                        "marker": {
                          "colorbar": {
                            "outlinewidth": 0,
                            "ticks": ""
                          }
                        },
                        "type": "scatterpolargl"
                      }
                    ],
                    "scatterternary": [
                      {
                        "marker": {
                          "colorbar": {
                            "outlinewidth": 0,
                            "ticks": ""
                          }
                        },
                        "type": "scatterternary"
                      }
                    ],
                    "surface": [
                      {
                        "colorbar": {
                          "outlinewidth": 0,
                          "ticks": ""
                        },
                        "colorscale": [
                          [
                            0,
                            "#0d0887"
                          ],
                          [
                            0.1111111111111111,
                            "#46039f"
                          ],
                          [
                            0.2222222222222222,
                            "#7201a8"
                          ],
                          [
                            0.3333333333333333,
                            "#9c179e"
                          ],
                          [
                            0.4444444444444444,
                            "#bd3786"
                          ],
                          [
                            0.5555555555555556,
                            "#d8576b"
                          ],
                          [
                            0.6666666666666666,
                            "#ed7953"
                          ],
                          [
                            0.7777777777777778,
                            "#fb9f3a"
                          ],
                          [
                            0.8888888888888888,
                            "#fdca26"
                          ],
                          [
                            1,
                            "#f0f921"
                          ]
                        ],
                        "type": "surface"
                      }
                    ],
                    "table": [
                      {
                        "cells": {
                          "fill": {
                            "color": "#EBF0F8"
                          },
                          "line": {
                            "color": "white"
                          }
                        },
                        "header": {
                          "fill": {
                            "color": "#C8D4E3"
                          },
                          "line": {
                            "color": "white"
                          }
                        },
                        "type": "table"
                      }
                    ]
                  },
                  "layout": {
                    "annotationdefaults": {
                      "arrowcolor": "#2a3f5f",
                      "arrowhead": 0,
                      "arrowwidth": 1
                    },
                    "autotypenumbers": "strict",
                    "coloraxis": {
                      "colorbar": {
                        "outlinewidth": 0,
                        "ticks": ""
                      }
                    },
                    "colorscale": {
                      "diverging": [
                        [
                          0,
                          "#8e0152"
                        ],
                        [
                          0.1,
                          "#c51b7d"
                        ],
                        [
                          0.2,
                          "#de77ae"
                        ],
                        [
                          0.3,
                          "#f1b6da"
                        ],
                        [
                          0.4,
                          "#fde0ef"
                        ],
                        [
                          0.5,
                          "#f7f7f7"
                        ],
                        [
                          0.6,
                          "#e6f5d0"
                        ],
                        [
                          0.7,
                          "#b8e186"
                        ],
                        [
                          0.8,
                          "#7fbc41"
                        ],
                        [
                          0.9,
                          "#4d9221"
                        ],
                        [
                          1,
                          "#276419"
                        ]
                      ],
                      "sequential": [
                        [
                          0,
                          "#0d0887"
                        ],
                        [
                          0.1111111111111111,
                          "#46039f"
                        ],
                        [
                          0.2222222222222222,
                          "#7201a8"
                        ],
                        [
                          0.3333333333333333,
                          "#9c179e"
                        ],
                        [
                          0.4444444444444444,
                          "#bd3786"
                        ],
                        [
                          0.5555555555555556,
                          "#d8576b"
                        ],
                        [
                          0.6666666666666666,
                          "#ed7953"
                        ],
                        [
                          0.7777777777777778,
                          "#fb9f3a"
                        ],
                        [
                          0.8888888888888888,
                          "#fdca26"
                        ],
                        [
                          1,
                          "#f0f921"
                        ]
                      ],
                      "sequentialminus": [
                        [
                          0,
                          "#0d0887"
                        ],
                        [
                          0.1111111111111111,
                          "#46039f"
                        ],
                        [
                          0.2222222222222222,
                          "#7201a8"
                        ],
                        [
                          0.3333333333333333,
                          "#9c179e"
                        ],
                        [
                          0.4444444444444444,
                          "#bd3786"
                        ],
                        [
                          0.5555555555555556,
                          "#d8576b"
                        ],
                        [
                          0.6666666666666666,
                          "#ed7953"
                        ],
                        [
                          0.7777777777777778,
                          "#fb9f3a"
                        ],
                        [
                          0.8888888888888888,
                          "#fdca26"
                        ],
                        [
                          1,
                          "#f0f921"
                        ]
                      ]
                    },
                    "colorway": [
                      "#636efa",
                      "#EF553B",
                      "#00cc96",
                      "#ab63fa",
                      "#FFA15A",
                      "#19d3f3",
                      "#FF6692",
                      "#B6E880",
                      "#FF97FF",
                      "#FECB52"
                    ],
                    "font": {
                      "color": "#2a3f5f"
                    },
                    "geo": {
                      "bgcolor": "white",
                      "lakecolor": "white",
                      "landcolor": "#E5ECF6",
                      "showlakes": true,
                      "showland": true,
                      "subunitcolor": "white"
                    },
                    "hoverlabel": {
                      "align": "left"
                    },
                    "hovermode": "closest",
                    "mapbox": {
                      "style": "light"
                    },
                    "paper_bgcolor": "white",
                    "plot_bgcolor": "#E5ECF6",
                    "polar": {
                      "angularaxis": {
                        "gridcolor": "white",
                        "linecolor": "white",
                        "ticks": ""
                      },
                      "bgcolor": "#E5ECF6",
                      "radialaxis": {
                        "gridcolor": "white",
                        "linecolor": "white",
                        "ticks": ""
                      }
                    },
                    "scene": {
                      "xaxis": {
                        "backgroundcolor": "#E5ECF6",
                        "gridcolor": "white",
                        "gridwidth": 2,
                        "linecolor": "white",
                        "showbackground": true,
                        "ticks": "",
                        "zerolinecolor": "white"
                      },
                      "yaxis": {
                        "backgroundcolor": "#E5ECF6",
                        "gridcolor": "white",
                        "gridwidth": 2,
                        "linecolor": "white",
                        "showbackground": true,
                        "ticks": "",
                        "zerolinecolor": "white"
                      },
                      "zaxis": {
                        "backgroundcolor": "#E5ECF6",
                        "gridcolor": "white",
                        "gridwidth": 2,
                        "linecolor": "white",
                        "showbackground": true,
                        "ticks": "",
                        "zerolinecolor": "white"
                      }
                    },
                    "shapedefaults": {
                      "line": {
                        "color": "#2a3f5f"
                      }
                    },
                    "ternary": {
                      "aaxis": {
                        "gridcolor": "white",
                        "linecolor": "white",
                        "ticks": ""
                      },
                      "baxis": {
                        "gridcolor": "white",
                        "linecolor": "white",
                        "ticks": ""
                      },
                      "bgcolor": "#E5ECF6",
                      "caxis": {
                        "gridcolor": "white",
                        "linecolor": "white",
                        "ticks": ""
                      }
                    },
                    "title": {
                      "x": 0.05
                    },
                    "xaxis": {
                      "automargin": true,
                      "gridcolor": "white",
                      "linecolor": "white",
                      "ticks": "",
                      "title": {
                        "standoff": 15
                      },
                      "zerolinecolor": "white",
                      "zerolinewidth": 2
                    },
                    "yaxis": {
                      "automargin": true,
                      "gridcolor": "white",
                      "linecolor": "white",
                      "ticks": "",
                      "title": {
                        "standoff": 15
                      },
                      "zerolinecolor": "white",
                      "zerolinewidth": 2
                    }
                  }
                },
                "title": {
                  "text": "Total Actions per Action Type"
                },
                "xaxis": {
                  "anchor": "y",
                  "domain": [
                    0,
                    1
                  ],
                  "title": {
                    "text": "Action Type"
                  }
                },
                "yaxis": {
                  "anchor": "x",
                  "domain": [
                    0,
                    1
                  ],
                  "title": {
                    "text": "Number of Actions"
                  }
                }
              }
            }
          },
          "metadata": {},
          "output_type": "display_data"
        }
      ],
      "source": [
        "import plotly.express as px\n",
        "from collections import Counter\n",
        "\n",
        "# Comptage des actions par type d'action\n",
        "action_counts = Counter(event['action'] for event in events)\n",
        "\n",
        "# Préparation des données pour Plotly\n",
        "actions = list(action_counts.keys())\n",
        "counts = list(action_counts.values())\n",
        "\n",
        "# Création du graphique avec Plotly\n",
        "fig = px.bar(x=actions, y=counts,\n",
        "             labels={'x':'Action Type', 'y':'Number of Actions'},\n",
        "             title='Total Actions per Action Type',\n",
        "             color=actions,  # Colorier par type d'action\n",
        "             color_discrete_sequence=px.colors.qualitative.Set3)\n",
        "\n",
        "# Affichage du graphique\n",
        "fig.show()\n",
        "\n"
      ]
    },
    {
      "cell_type": "code",
      "execution_count": 7,
      "metadata": {
        "colab": {
          "base_uri": "https://localhost:8080/",
          "height": 542
        },
        "id": "-PlbK2ONNXkc",
        "outputId": "8a984c28-dd43-4fc1-c1c9-46eba2f266d4"
      },
      "outputs": [
        {
          "data": {
            "application/vnd.plotly.v1+json": {
              "config": {
                "plotlyServerURL": "https://plot.ly"
              },
              "data": [
                {
                  "alignmentgroup": "True",
                  "hovertemplate": "action=attack<br>player=%{x}<br>count=%{y}<extra></extra>",
                  "legendgroup": "attack",
                  "marker": {
                    "color": "#636efa",
                    "pattern": {
                      "shape": ""
                    }
                  },
                  "name": "attack",
                  "offsetgroup": "attack",
                  "orientation": "v",
                  "showlegend": true,
                  "textposition": "auto",
                  "type": "bar",
                  "x": [
                    "Fernando Iro",
                    "Ramos",
                    "Fernando Santos"
                  ],
                  "xaxis": "x",
                  "y": {
                    "bdata": "AQEB",
                    "dtype": "i1"
                  },
                  "yaxis": "y"
                },
                {
                  "alignmentgroup": "True",
                  "hovertemplate": "action=kickoff<br>player=%{x}<br>count=%{y}<extra></extra>",
                  "legendgroup": "kickoff",
                  "marker": {
                    "color": "#EF553B",
                    "pattern": {
                      "shape": ""
                    }
                  },
                  "name": "kickoff",
                  "offsetgroup": "kickoff",
                  "orientation": "v",
                  "showlegend": true,
                  "textposition": "auto",
                  "type": "bar",
                  "x": [
                    "Fernando Iro",
                    "Ramos",
                    "Fernando Santos"
                  ],
                  "xaxis": "x",
                  "y": {
                    "bdata": "AQEB",
                    "dtype": "i1"
                  },
                  "yaxis": "y"
                },
                {
                  "alignmentgroup": "True",
                  "hovertemplate": "action=goal<br>player=%{x}<br>count=%{y}<extra></extra>",
                  "legendgroup": "goal",
                  "marker": {
                    "color": "#00cc96",
                    "pattern": {
                      "shape": ""
                    }
                  },
                  "name": "goal",
                  "offsetgroup": "goal",
                  "orientation": "v",
                  "showlegend": true,
                  "textposition": "auto",
                  "type": "bar",
                  "x": [
                    "Ramos",
                    "Fernando Eero",
                    "Ronaldo",
                    "Albert",
                    "David"
                  ],
                  "xaxis": "x",
                  "y": {
                    "bdata": "AQEBAQE=",
                    "dtype": "i1"
                  },
                  "yaxis": "y"
                },
                {
                  "alignmentgroup": "True",
                  "hovertemplate": "action=penalty<br>player=%{x}<br>count=%{y}<extra></extra>",
                  "legendgroup": "penalty",
                  "marker": {
                    "color": "#ab63fa",
                    "pattern": {
                      "shape": ""
                    }
                  },
                  "name": "penalty",
                  "offsetgroup": "penalty",
                  "orientation": "v",
                  "showlegend": true,
                  "textposition": "auto",
                  "type": "bar",
                  "x": [
                    "Ramos",
                    "Fernando Eero",
                    "Ronaldo",
                    "Albert",
                    "Costa"
                  ],
                  "xaxis": "x",
                  "y": {
                    "bdata": "AQEBAQE=",
                    "dtype": "i1"
                  },
                  "yaxis": "y"
                },
                {
                  "alignmentgroup": "True",
                  "hovertemplate": "action=shot<br>player=%{x}<br>count=%{y}<extra></extra>",
                  "legendgroup": "shot",
                  "marker": {
                    "color": "#FFA15A",
                    "pattern": {
                      "shape": ""
                    }
                  },
                  "name": "shot",
                  "offsetgroup": "shot",
                  "orientation": "v",
                  "showlegend": true,
                  "textposition": "auto",
                  "type": "bar",
                  "x": [
                    "Fernando Santos",
                    "Jose Font",
                    "Pepe",
                    "Fernando Eero",
                    "Ronaldo",
                    "David"
                  ],
                  "xaxis": "x",
                  "y": {
                    "bdata": "AQEBAQEB",
                    "dtype": "i1"
                  },
                  "yaxis": "y"
                },
                {
                  "alignmentgroup": "True",
                  "hovertemplate": "action=pass<br>player=%{x}<br>count=%{y}<extra></extra>",
                  "legendgroup": "pass",
                  "marker": {
                    "color": "#19d3f3",
                    "pattern": {
                      "shape": ""
                    }
                  },
                  "name": "pass",
                  "offsetgroup": "pass",
                  "orientation": "v",
                  "showlegend": true,
                  "textposition": "auto",
                  "type": "bar",
                  "x": [
                    "Pepe"
                  ],
                  "xaxis": "x",
                  "y": {
                    "bdata": "AQ==",
                    "dtype": "i1"
                  },
                  "yaxis": "y"
                },
                {
                  "alignmentgroup": "True",
                  "hovertemplate": "action=foul<br>player=%{x}<br>count=%{y}<extra></extra>",
                  "legendgroup": "foul",
                  "marker": {
                    "color": "#FF6692",
                    "pattern": {
                      "shape": ""
                    }
                  },
                  "name": "foul",
                  "offsetgroup": "foul",
                  "orientation": "v",
                  "showlegend": true,
                  "textposition": "auto",
                  "type": "bar",
                  "x": [
                    "Pepe"
                  ],
                  "xaxis": "x",
                  "y": {
                    "bdata": "AQ==",
                    "dtype": "i1"
                  },
                  "yaxis": "y"
                },
                {
                  "alignmentgroup": "True",
                  "hovertemplate": "action=yellow card<br>player=%{x}<br>count=%{y}<extra></extra>",
                  "legendgroup": "yellow card",
                  "marker": {
                    "color": "#B6E880",
                    "pattern": {
                      "shape": ""
                    }
                  },
                  "name": "yellow card",
                  "offsetgroup": "yellow card",
                  "orientation": "v",
                  "showlegend": true,
                  "textposition": "auto",
                  "type": "bar",
                  "x": [
                    "Ronaldo",
                    "Bruno Fernandez"
                  ],
                  "xaxis": "x",
                  "y": {
                    "bdata": "AQE=",
                    "dtype": "i1"
                  },
                  "yaxis": "y"
                }
              ],
              "layout": {
                "barmode": "group",
                "legend": {
                  "title": {
                    "text": "action"
                  },
                  "tracegroupgap": 0
                },
                "template": {
                  "data": {
                    "bar": [
                      {
                        "error_x": {
                          "color": "#2a3f5f"
                        },
                        "error_y": {
                          "color": "#2a3f5f"
                        },
                        "marker": {
                          "line": {
                            "color": "#E5ECF6",
                            "width": 0.5
                          },
                          "pattern": {
                            "fillmode": "overlay",
                            "size": 10,
                            "solidity": 0.2
                          }
                        },
                        "type": "bar"
                      }
                    ],
                    "barpolar": [
                      {
                        "marker": {
                          "line": {
                            "color": "#E5ECF6",
                            "width": 0.5
                          },
                          "pattern": {
                            "fillmode": "overlay",
                            "size": 10,
                            "solidity": 0.2
                          }
                        },
                        "type": "barpolar"
                      }
                    ],
                    "carpet": [
                      {
                        "aaxis": {
                          "endlinecolor": "#2a3f5f",
                          "gridcolor": "white",
                          "linecolor": "white",
                          "minorgridcolor": "white",
                          "startlinecolor": "#2a3f5f"
                        },
                        "baxis": {
                          "endlinecolor": "#2a3f5f",
                          "gridcolor": "white",
                          "linecolor": "white",
                          "minorgridcolor": "white",
                          "startlinecolor": "#2a3f5f"
                        },
                        "type": "carpet"
                      }
                    ],
                    "choropleth": [
                      {
                        "colorbar": {
                          "outlinewidth": 0,
                          "ticks": ""
                        },
                        "type": "choropleth"
                      }
                    ],
                    "contour": [
                      {
                        "colorbar": {
                          "outlinewidth": 0,
                          "ticks": ""
                        },
                        "colorscale": [
                          [
                            0,
                            "#0d0887"
                          ],
                          [
                            0.1111111111111111,
                            "#46039f"
                          ],
                          [
                            0.2222222222222222,
                            "#7201a8"
                          ],
                          [
                            0.3333333333333333,
                            "#9c179e"
                          ],
                          [
                            0.4444444444444444,
                            "#bd3786"
                          ],
                          [
                            0.5555555555555556,
                            "#d8576b"
                          ],
                          [
                            0.6666666666666666,
                            "#ed7953"
                          ],
                          [
                            0.7777777777777778,
                            "#fb9f3a"
                          ],
                          [
                            0.8888888888888888,
                            "#fdca26"
                          ],
                          [
                            1,
                            "#f0f921"
                          ]
                        ],
                        "type": "contour"
                      }
                    ],
                    "contourcarpet": [
                      {
                        "colorbar": {
                          "outlinewidth": 0,
                          "ticks": ""
                        },
                        "type": "contourcarpet"
                      }
                    ],
                    "heatmap": [
                      {
                        "colorbar": {
                          "outlinewidth": 0,
                          "ticks": ""
                        },
                        "colorscale": [
                          [
                            0,
                            "#0d0887"
                          ],
                          [
                            0.1111111111111111,
                            "#46039f"
                          ],
                          [
                            0.2222222222222222,
                            "#7201a8"
                          ],
                          [
                            0.3333333333333333,
                            "#9c179e"
                          ],
                          [
                            0.4444444444444444,
                            "#bd3786"
                          ],
                          [
                            0.5555555555555556,
                            "#d8576b"
                          ],
                          [
                            0.6666666666666666,
                            "#ed7953"
                          ],
                          [
                            0.7777777777777778,
                            "#fb9f3a"
                          ],
                          [
                            0.8888888888888888,
                            "#fdca26"
                          ],
                          [
                            1,
                            "#f0f921"
                          ]
                        ],
                        "type": "heatmap"
                      }
                    ],
                    "histogram": [
                      {
                        "marker": {
                          "pattern": {
                            "fillmode": "overlay",
                            "size": 10,
                            "solidity": 0.2
                          }
                        },
                        "type": "histogram"
                      }
                    ],
                    "histogram2d": [
                      {
                        "colorbar": {
                          "outlinewidth": 0,
                          "ticks": ""
                        },
                        "colorscale": [
                          [
                            0,
                            "#0d0887"
                          ],
                          [
                            0.1111111111111111,
                            "#46039f"
                          ],
                          [
                            0.2222222222222222,
                            "#7201a8"
                          ],
                          [
                            0.3333333333333333,
                            "#9c179e"
                          ],
                          [
                            0.4444444444444444,
                            "#bd3786"
                          ],
                          [
                            0.5555555555555556,
                            "#d8576b"
                          ],
                          [
                            0.6666666666666666,
                            "#ed7953"
                          ],
                          [
                            0.7777777777777778,
                            "#fb9f3a"
                          ],
                          [
                            0.8888888888888888,
                            "#fdca26"
                          ],
                          [
                            1,
                            "#f0f921"
                          ]
                        ],
                        "type": "histogram2d"
                      }
                    ],
                    "histogram2dcontour": [
                      {
                        "colorbar": {
                          "outlinewidth": 0,
                          "ticks": ""
                        },
                        "colorscale": [
                          [
                            0,
                            "#0d0887"
                          ],
                          [
                            0.1111111111111111,
                            "#46039f"
                          ],
                          [
                            0.2222222222222222,
                            "#7201a8"
                          ],
                          [
                            0.3333333333333333,
                            "#9c179e"
                          ],
                          [
                            0.4444444444444444,
                            "#bd3786"
                          ],
                          [
                            0.5555555555555556,
                            "#d8576b"
                          ],
                          [
                            0.6666666666666666,
                            "#ed7953"
                          ],
                          [
                            0.7777777777777778,
                            "#fb9f3a"
                          ],
                          [
                            0.8888888888888888,
                            "#fdca26"
                          ],
                          [
                            1,
                            "#f0f921"
                          ]
                        ],
                        "type": "histogram2dcontour"
                      }
                    ],
                    "mesh3d": [
                      {
                        "colorbar": {
                          "outlinewidth": 0,
                          "ticks": ""
                        },
                        "type": "mesh3d"
                      }
                    ],
                    "parcoords": [
                      {
                        "line": {
                          "colorbar": {
                            "outlinewidth": 0,
                            "ticks": ""
                          }
                        },
                        "type": "parcoords"
                      }
                    ],
                    "pie": [
                      {
                        "automargin": true,
                        "type": "pie"
                      }
                    ],
                    "scatter": [
                      {
                        "fillpattern": {
                          "fillmode": "overlay",
                          "size": 10,
                          "solidity": 0.2
                        },
                        "type": "scatter"
                      }
                    ],
                    "scatter3d": [
                      {
                        "line": {
                          "colorbar": {
                            "outlinewidth": 0,
                            "ticks": ""
                          }
                        },
                        "marker": {
                          "colorbar": {
                            "outlinewidth": 0,
                            "ticks": ""
                          }
                        },
                        "type": "scatter3d"
                      }
                    ],
                    "scattercarpet": [
                      {
                        "marker": {
                          "colorbar": {
                            "outlinewidth": 0,
                            "ticks": ""
                          }
                        },
                        "type": "scattercarpet"
                      }
                    ],
                    "scattergeo": [
                      {
                        "marker": {
                          "colorbar": {
                            "outlinewidth": 0,
                            "ticks": ""
                          }
                        },
                        "type": "scattergeo"
                      }
                    ],
                    "scattergl": [
                      {
                        "marker": {
                          "colorbar": {
                            "outlinewidth": 0,
                            "ticks": ""
                          }
                        },
                        "type": "scattergl"
                      }
                    ],
                    "scattermap": [
                      {
                        "marker": {
                          "colorbar": {
                            "outlinewidth": 0,
                            "ticks": ""
                          }
                        },
                        "type": "scattermap"
                      }
                    ],
                    "scattermapbox": [
                      {
                        "marker": {
                          "colorbar": {
                            "outlinewidth": 0,
                            "ticks": ""
                          }
                        },
                        "type": "scattermapbox"
                      }
                    ],
                    "scatterpolar": [
                      {
                        "marker": {
                          "colorbar": {
                            "outlinewidth": 0,
                            "ticks": ""
                          }
                        },
                        "type": "scatterpolar"
                      }
                    ],
                    "scatterpolargl": [
                      {
                        "marker": {
                          "colorbar": {
                            "outlinewidth": 0,
                            "ticks": ""
                          }
                        },
                        "type": "scatterpolargl"
                      }
                    ],
                    "scatterternary": [
                      {
                        "marker": {
                          "colorbar": {
                            "outlinewidth": 0,
                            "ticks": ""
                          }
                        },
                        "type": "scatterternary"
                      }
                    ],
                    "surface": [
                      {
                        "colorbar": {
                          "outlinewidth": 0,
                          "ticks": ""
                        },
                        "colorscale": [
                          [
                            0,
                            "#0d0887"
                          ],
                          [
                            0.1111111111111111,
                            "#46039f"
                          ],
                          [
                            0.2222222222222222,
                            "#7201a8"
                          ],
                          [
                            0.3333333333333333,
                            "#9c179e"
                          ],
                          [
                            0.4444444444444444,
                            "#bd3786"
                          ],
                          [
                            0.5555555555555556,
                            "#d8576b"
                          ],
                          [
                            0.6666666666666666,
                            "#ed7953"
                          ],
                          [
                            0.7777777777777778,
                            "#fb9f3a"
                          ],
                          [
                            0.8888888888888888,
                            "#fdca26"
                          ],
                          [
                            1,
                            "#f0f921"
                          ]
                        ],
                        "type": "surface"
                      }
                    ],
                    "table": [
                      {
                        "cells": {
                          "fill": {
                            "color": "#EBF0F8"
                          },
                          "line": {
                            "color": "white"
                          }
                        },
                        "header": {
                          "fill": {
                            "color": "#C8D4E3"
                          },
                          "line": {
                            "color": "white"
                          }
                        },
                        "type": "table"
                      }
                    ]
                  },
                  "layout": {
                    "annotationdefaults": {
                      "arrowcolor": "#2a3f5f",
                      "arrowhead": 0,
                      "arrowwidth": 1
                    },
                    "autotypenumbers": "strict",
                    "coloraxis": {
                      "colorbar": {
                        "outlinewidth": 0,
                        "ticks": ""
                      }
                    },
                    "colorscale": {
                      "diverging": [
                        [
                          0,
                          "#8e0152"
                        ],
                        [
                          0.1,
                          "#c51b7d"
                        ],
                        [
                          0.2,
                          "#de77ae"
                        ],
                        [
                          0.3,
                          "#f1b6da"
                        ],
                        [
                          0.4,
                          "#fde0ef"
                        ],
                        [
                          0.5,
                          "#f7f7f7"
                        ],
                        [
                          0.6,
                          "#e6f5d0"
                        ],
                        [
                          0.7,
                          "#b8e186"
                        ],
                        [
                          0.8,
                          "#7fbc41"
                        ],
                        [
                          0.9,
                          "#4d9221"
                        ],
                        [
                          1,
                          "#276419"
                        ]
                      ],
                      "sequential": [
                        [
                          0,
                          "#0d0887"
                        ],
                        [
                          0.1111111111111111,
                          "#46039f"
                        ],
                        [
                          0.2222222222222222,
                          "#7201a8"
                        ],
                        [
                          0.3333333333333333,
                          "#9c179e"
                        ],
                        [
                          0.4444444444444444,
                          "#bd3786"
                        ],
                        [
                          0.5555555555555556,
                          "#d8576b"
                        ],
                        [
                          0.6666666666666666,
                          "#ed7953"
                        ],
                        [
                          0.7777777777777778,
                          "#fb9f3a"
                        ],
                        [
                          0.8888888888888888,
                          "#fdca26"
                        ],
                        [
                          1,
                          "#f0f921"
                        ]
                      ],
                      "sequentialminus": [
                        [
                          0,
                          "#0d0887"
                        ],
                        [
                          0.1111111111111111,
                          "#46039f"
                        ],
                        [
                          0.2222222222222222,
                          "#7201a8"
                        ],
                        [
                          0.3333333333333333,
                          "#9c179e"
                        ],
                        [
                          0.4444444444444444,
                          "#bd3786"
                        ],
                        [
                          0.5555555555555556,
                          "#d8576b"
                        ],
                        [
                          0.6666666666666666,
                          "#ed7953"
                        ],
                        [
                          0.7777777777777778,
                          "#fb9f3a"
                        ],
                        [
                          0.8888888888888888,
                          "#fdca26"
                        ],
                        [
                          1,
                          "#f0f921"
                        ]
                      ]
                    },
                    "colorway": [
                      "#636efa",
                      "#EF553B",
                      "#00cc96",
                      "#ab63fa",
                      "#FFA15A",
                      "#19d3f3",
                      "#FF6692",
                      "#B6E880",
                      "#FF97FF",
                      "#FECB52"
                    ],
                    "font": {
                      "color": "#2a3f5f"
                    },
                    "geo": {
                      "bgcolor": "white",
                      "lakecolor": "white",
                      "landcolor": "#E5ECF6",
                      "showlakes": true,
                      "showland": true,
                      "subunitcolor": "white"
                    },
                    "hoverlabel": {
                      "align": "left"
                    },
                    "hovermode": "closest",
                    "mapbox": {
                      "style": "light"
                    },
                    "paper_bgcolor": "white",
                    "plot_bgcolor": "#E5ECF6",
                    "polar": {
                      "angularaxis": {
                        "gridcolor": "white",
                        "linecolor": "white",
                        "ticks": ""
                      },
                      "bgcolor": "#E5ECF6",
                      "radialaxis": {
                        "gridcolor": "white",
                        "linecolor": "white",
                        "ticks": ""
                      }
                    },
                    "scene": {
                      "xaxis": {
                        "backgroundcolor": "#E5ECF6",
                        "gridcolor": "white",
                        "gridwidth": 2,
                        "linecolor": "white",
                        "showbackground": true,
                        "ticks": "",
                        "zerolinecolor": "white"
                      },
                      "yaxis": {
                        "backgroundcolor": "#E5ECF6",
                        "gridcolor": "white",
                        "gridwidth": 2,
                        "linecolor": "white",
                        "showbackground": true,
                        "ticks": "",
                        "zerolinecolor": "white"
                      },
                      "zaxis": {
                        "backgroundcolor": "#E5ECF6",
                        "gridcolor": "white",
                        "gridwidth": 2,
                        "linecolor": "white",
                        "showbackground": true,
                        "ticks": "",
                        "zerolinecolor": "white"
                      }
                    },
                    "shapedefaults": {
                      "line": {
                        "color": "#2a3f5f"
                      }
                    },
                    "ternary": {
                      "aaxis": {
                        "gridcolor": "white",
                        "linecolor": "white",
                        "ticks": ""
                      },
                      "baxis": {
                        "gridcolor": "white",
                        "linecolor": "white",
                        "ticks": ""
                      },
                      "bgcolor": "#E5ECF6",
                      "caxis": {
                        "gridcolor": "white",
                        "linecolor": "white",
                        "ticks": ""
                      }
                    },
                    "title": {
                      "x": 0.05
                    },
                    "xaxis": {
                      "automargin": true,
                      "gridcolor": "white",
                      "linecolor": "white",
                      "ticks": "",
                      "title": {
                        "standoff": 15
                      },
                      "zerolinecolor": "white",
                      "zerolinewidth": 2
                    },
                    "yaxis": {
                      "automargin": true,
                      "gridcolor": "white",
                      "linecolor": "white",
                      "ticks": "",
                      "title": {
                        "standoff": 15
                      },
                      "zerolinecolor": "white",
                      "zerolinewidth": 2
                    }
                  }
                },
                "title": {
                  "text": "Actions per Player"
                },
                "xaxis": {
                  "anchor": "y",
                  "domain": [
                    0,
                    1
                  ],
                  "title": {
                    "text": "player"
                  }
                },
                "yaxis": {
                  "anchor": "x",
                  "domain": [
                    0,
                    1
                  ],
                  "title": {
                    "text": "count"
                  }
                }
              }
            }
          },
          "metadata": {},
          "output_type": "display_data"
        }
      ],
      "source": [
        "import plotly.express as px\n",
        "\n",
        "# Count actions per player\n",
        "action_counts = {}\n",
        "for event in events:\n",
        "    player = event['player']\n",
        "    action = event['action']\n",
        "    if player not in action_counts:\n",
        "        action_counts[player] = {}\n",
        "    if action not in action_counts[player]:\n",
        "        action_counts[player][action] = 0\n",
        "    action_counts[player][action] += 1\n",
        "\n",
        "# Prepare data for Plotly\n",
        "data = []\n",
        "for player, actions in action_counts.items():\n",
        "    for action, count in actions.items():\n",
        "      data.append({'player': player, 'action': action, 'count': count})\n",
        "\n",
        "df = px.data.tips()\n",
        "fig = px.bar(data, x='player', y='count', color='action', barmode='group', title='Actions per Player')\n",
        "\n",
        "fig.show()\n"
      ]
    },
    {
      "cell_type": "code",
      "execution_count": 9,
      "metadata": {},
      "outputs": [
        {
          "name": "stdout",
          "output_type": "stream",
          "text": [
            "Defaulting to user installation because normal site-packages is not writeableNote: you may need to restart the kernel to use updated packages.\n"
          ]
        },
        {
          "name": "stderr",
          "output_type": "stream",
          "text": [
            "  WARNING: Failed to remove contents in a temporary directory 'C:\\Users\\SHAMS\\AppData\\Roaming\\Python\\Python312\\site-packages\\~1mpy.libs'.\n",
            "  You can safely remove it manually.\n",
            "  WARNING: Failed to remove contents in a temporary directory 'C:\\Users\\SHAMS\\AppData\\Roaming\\Python\\Python312\\site-packages\\~1mpy'.\n",
            "  You can safely remove it manually.\n",
            "ERROR: pip's dependency resolver does not currently take into account all the packages that are installed. This behaviour is the source of the following dependency conflicts.\n",
            "albucore 0.0.23 requires opencv-python-headless>=4.9.0.80, which is not installed.\n",
            "albumentations 2.0.5 requires opencv-python-headless>=4.9.0.80, which is not installed.\n",
            "inference 0.46.1 requires opencv-python<=4.10.0.84,>=4.8.1.78, but you have opencv-python 4.11.0.86 which is incompatible.\n",
            "inference 0.46.1 requires pillow<12.0,>=11.0, but you have pillow 10.4.0 which is incompatible.\n",
            "inference 0.46.1 requires python-dotenv~=1.0.0, but you have python-dotenv 1.1.0 which is incompatible.\n",
            "mediapipe 0.10.21 requires numpy<2, but you have numpy 2.1.3 which is incompatible.\n",
            "tensorflow-intel 2.18.0 requires ml-dtypes<0.5.0,>=0.4.0, but you have ml-dtypes 0.5.1 which is incompatible.\n",
            "tensorflow-intel 2.18.0 requires numpy<2.1.0,>=1.26.0, but you have numpy 2.1.3 which is incompatible.\n",
            "tensorflow-intel 2.18.0 requires tensorboard<2.19,>=2.18, but you have tensorboard 2.19.0 which is incompatible.\n",
            "ultralytics 8.3.105 requires numpy<=2.1.1,>=1.23.0, but you have numpy 2.1.3 which is incompatible.\n",
            "\n",
            "[notice] A new release of pip is available: 25.0.1 -> 25.1\n",
            "[notice] To update, run: python.exe -m pip install --upgrade pip\n"
          ]
        },
        {
          "name": "stdout",
          "output_type": "stream",
          "text": [
            "\n",
            "Collecting tf-keras\n",
            "  Downloading tf_keras-2.19.0-py3-none-any.whl.metadata (1.8 kB)\n",
            "Requirement already satisfied: tensorflow<2.20,>=2.19 in c:\\users\\shams\\appdata\\roaming\\python\\python312\\site-packages (from tf-keras) (2.19.0)\n",
            "Requirement already satisfied: absl-py>=1.0.0 in c:\\users\\shams\\appdata\\roaming\\python\\python312\\site-packages (from tensorflow<2.20,>=2.19->tf-keras) (2.1.0)\n",
            "Requirement already satisfied: astunparse>=1.6.0 in c:\\users\\shams\\appdata\\roaming\\python\\python312\\site-packages (from tensorflow<2.20,>=2.19->tf-keras) (1.6.3)\n",
            "Requirement already satisfied: flatbuffers>=24.3.25 in c:\\users\\shams\\appdata\\roaming\\python\\python312\\site-packages (from tensorflow<2.20,>=2.19->tf-keras) (25.2.10)\n",
            "Requirement already satisfied: gast!=0.5.0,!=0.5.1,!=0.5.2,>=0.2.1 in c:\\users\\shams\\appdata\\roaming\\python\\python312\\site-packages (from tensorflow<2.20,>=2.19->tf-keras) (0.6.0)\n",
            "Requirement already satisfied: google-pasta>=0.1.1 in c:\\users\\shams\\appdata\\roaming\\python\\python312\\site-packages (from tensorflow<2.20,>=2.19->tf-keras) (0.2.0)\n",
            "Requirement already satisfied: libclang>=13.0.0 in c:\\users\\shams\\appdata\\roaming\\python\\python312\\site-packages (from tensorflow<2.20,>=2.19->tf-keras) (18.1.1)\n",
            "Requirement already satisfied: opt-einsum>=2.3.2 in c:\\users\\shams\\appdata\\roaming\\python\\python312\\site-packages (from tensorflow<2.20,>=2.19->tf-keras) (3.4.0)\n",
            "Requirement already satisfied: packaging in c:\\users\\shams\\appdata\\roaming\\python\\python312\\site-packages (from tensorflow<2.20,>=2.19->tf-keras) (24.1)\n",
            "Requirement already satisfied: protobuf!=4.21.0,!=4.21.1,!=4.21.2,!=4.21.3,!=4.21.4,!=4.21.5,<6.0.0dev,>=3.20.3 in c:\\users\\shams\\appdata\\roaming\\python\\python312\\site-packages (from tensorflow<2.20,>=2.19->tf-keras) (4.25.6)\n",
            "Requirement already satisfied: requests<3,>=2.21.0 in c:\\users\\shams\\appdata\\roaming\\python\\python312\\site-packages (from tensorflow<2.20,>=2.19->tf-keras) (2.32.0)\n",
            "Requirement already satisfied: setuptools in c:\\users\\shams\\appdata\\roaming\\python\\python312\\site-packages (from tensorflow<2.20,>=2.19->tf-keras) (78.1.0)\n",
            "Requirement already satisfied: six>=1.12.0 in c:\\users\\shams\\appdata\\roaming\\python\\python312\\site-packages (from tensorflow<2.20,>=2.19->tf-keras) (1.17.0)\n",
            "Requirement already satisfied: termcolor>=1.1.0 in c:\\users\\shams\\appdata\\roaming\\python\\python312\\site-packages (from tensorflow<2.20,>=2.19->tf-keras) (2.5.0)\n",
            "Requirement already satisfied: typing-extensions>=3.6.6 in c:\\users\\shams\\appdata\\roaming\\python\\python312\\site-packages (from tensorflow<2.20,>=2.19->tf-keras) (4.12.2)\n",
            "Requirement already satisfied: wrapt>=1.11.0 in c:\\users\\shams\\appdata\\roaming\\python\\python312\\site-packages (from tensorflow<2.20,>=2.19->tf-keras) (1.17.2)\n",
            "Requirement already satisfied: grpcio<2.0,>=1.24.3 in c:\\users\\shams\\appdata\\roaming\\python\\python312\\site-packages (from tensorflow<2.20,>=2.19->tf-keras) (1.70.0)\n",
            "Requirement already satisfied: tensorboard~=2.19.0 in c:\\users\\shams\\appdata\\roaming\\python\\python312\\site-packages (from tensorflow<2.20,>=2.19->tf-keras) (2.19.0)\n",
            "Requirement already satisfied: keras>=3.5.0 in c:\\users\\shams\\appdata\\roaming\\python\\python312\\site-packages (from tensorflow<2.20,>=2.19->tf-keras) (3.8.0)\n",
            "Collecting numpy<2.2.0,>=1.26.0 (from tensorflow<2.20,>=2.19->tf-keras)\n",
            "  Downloading numpy-2.1.3-cp312-cp312-win_amd64.whl.metadata (60 kB)\n",
            "Requirement already satisfied: h5py>=3.11.0 in c:\\users\\shams\\appdata\\roaming\\python\\python312\\site-packages (from tensorflow<2.20,>=2.19->tf-keras) (3.13.0)\n",
            "Requirement already satisfied: ml-dtypes<1.0.0,>=0.5.1 in c:\\users\\shams\\appdata\\roaming\\python\\python312\\site-packages (from tensorflow<2.20,>=2.19->tf-keras) (0.5.1)\n",
            "Requirement already satisfied: wheel<1.0,>=0.23.0 in c:\\users\\shams\\appdata\\roaming\\python\\python312\\site-packages (from astunparse>=1.6.0->tensorflow<2.20,>=2.19->tf-keras) (0.45.0)\n",
            "Requirement already satisfied: rich in c:\\users\\shams\\appdata\\roaming\\python\\python312\\site-packages (from keras>=3.5.0->tensorflow<2.20,>=2.19->tf-keras) (13.0.0)\n",
            "Requirement already satisfied: namex in c:\\users\\shams\\appdata\\roaming\\python\\python312\\site-packages (from keras>=3.5.0->tensorflow<2.20,>=2.19->tf-keras) (0.0.8)\n",
            "Requirement already satisfied: optree in c:\\users\\shams\\appdata\\roaming\\python\\python312\\site-packages (from keras>=3.5.0->tensorflow<2.20,>=2.19->tf-keras) (0.14.0)\n",
            "Requirement already satisfied: charset-normalizer<4,>=2 in c:\\users\\shams\\appdata\\roaming\\python\\python312\\site-packages (from requests<3,>=2.21.0->tensorflow<2.20,>=2.19->tf-keras) (3.4.0)\n",
            "Requirement already satisfied: idna<4,>=2.5 in c:\\users\\shams\\appdata\\roaming\\python\\python312\\site-packages (from requests<3,>=2.21.0->tensorflow<2.20,>=2.19->tf-keras) (3.10)\n",
            "Requirement already satisfied: urllib3<3,>=1.21.1 in c:\\users\\shams\\appdata\\roaming\\python\\python312\\site-packages (from requests<3,>=2.21.0->tensorflow<2.20,>=2.19->tf-keras) (1.26.20)\n",
            "Requirement already satisfied: certifi>=2017.4.17 in c:\\users\\shams\\appdata\\roaming\\python\\python312\\site-packages (from requests<3,>=2.21.0->tensorflow<2.20,>=2.19->tf-keras) (2024.12.14)\n",
            "Requirement already satisfied: markdown>=2.6.8 in c:\\users\\shams\\appdata\\roaming\\python\\python312\\site-packages (from tensorboard~=2.19.0->tensorflow<2.20,>=2.19->tf-keras) (3.7)\n",
            "Requirement already satisfied: tensorboard-data-server<0.8.0,>=0.7.0 in c:\\users\\shams\\appdata\\roaming\\python\\python312\\site-packages (from tensorboard~=2.19.0->tensorflow<2.20,>=2.19->tf-keras) (0.7.2)\n",
            "Requirement already satisfied: werkzeug>=1.0.1 in c:\\users\\shams\\appdata\\roaming\\python\\python312\\site-packages (from tensorboard~=2.19.0->tensorflow<2.20,>=2.19->tf-keras) (3.1.3)\n",
            "Requirement already satisfied: MarkupSafe>=2.1.1 in c:\\users\\shams\\appdata\\roaming\\python\\python312\\site-packages (from werkzeug>=1.0.1->tensorboard~=2.19.0->tensorflow<2.20,>=2.19->tf-keras) (3.0.2)\n",
            "Requirement already satisfied: commonmark<0.10.0,>=0.9.0 in c:\\users\\shams\\appdata\\roaming\\python\\python312\\site-packages (from rich->keras>=3.5.0->tensorflow<2.20,>=2.19->tf-keras) (0.9.1)\n",
            "Requirement already satisfied: pygments<3.0.0,>=2.6.0 in c:\\users\\shams\\appdata\\roaming\\python\\python312\\site-packages (from rich->keras>=3.5.0->tensorflow<2.20,>=2.19->tf-keras) (2.18.0)\n",
            "Downloading tf_keras-2.19.0-py3-none-any.whl (1.7 MB)\n",
            "   ---------------------------------------- 0.0/1.7 MB ? eta -:--:--\n",
            "   ------ --------------------------------- 0.3/1.7 MB ? eta -:--:--\n",
            "   ------------------------ --------------- 1.0/1.7 MB 3.9 MB/s eta 0:00:01\n",
            "   ---------------------------------------- 1.7/1.7 MB 3.7 MB/s eta 0:00:00\n",
            "Downloading numpy-2.1.3-cp312-cp312-win_amd64.whl (12.6 MB)\n",
            "   ---------------------------------------- 0.0/12.6 MB ? eta -:--:--\n",
            "   - -------------------------------------- 0.5/12.6 MB 3.4 MB/s eta 0:00:04\n",
            "   ---- ----------------------------------- 1.3/12.6 MB 3.5 MB/s eta 0:00:04\n",
            "   ----- ---------------------------------- 1.6/12.6 MB 3.7 MB/s eta 0:00:04\n",
            "   ------ --------------------------------- 2.1/12.6 MB 2.8 MB/s eta 0:00:04\n",
            "   -------- ------------------------------- 2.6/12.6 MB 2.6 MB/s eta 0:00:04\n",
            "   -------- ------------------------------- 2.6/12.6 MB 2.6 MB/s eta 0:00:04\n",
            "   --------- ------------------------------ 2.9/12.6 MB 2.1 MB/s eta 0:00:05\n",
            "   ---------- ----------------------------- 3.1/12.6 MB 2.0 MB/s eta 0:00:05\n",
            "   ---------- ----------------------------- 3.1/12.6 MB 2.0 MB/s eta 0:00:05\n",
            "   ---------- ----------------------------- 3.4/12.6 MB 1.6 MB/s eta 0:00:06\n",
            "   ---------- ----------------------------- 3.4/12.6 MB 1.6 MB/s eta 0:00:06\n",
            "   ---------- ----------------------------- 3.4/12.6 MB 1.6 MB/s eta 0:00:06\n",
            "   ----------- ---------------------------- 3.7/12.6 MB 1.4 MB/s eta 0:00:07\n",
            "   ----------- ---------------------------- 3.7/12.6 MB 1.4 MB/s eta 0:00:07\n",
            "   ------------ --------------------------- 3.9/12.6 MB 1.3 MB/s eta 0:00:07\n",
            "   ------------ --------------------------- 3.9/12.6 MB 1.3 MB/s eta 0:00:07\n",
            "   ------------- -------------------------- 4.2/12.6 MB 1.2 MB/s eta 0:00:08\n",
            "   -------------- ------------------------- 4.5/12.6 MB 1.1 MB/s eta 0:00:08\n",
            "   -------------- ------------------------- 4.5/12.6 MB 1.1 MB/s eta 0:00:08\n",
            "   --------------- ------------------------ 4.7/12.6 MB 1.1 MB/s eta 0:00:08\n",
            "   --------------- ------------------------ 4.7/12.6 MB 1.1 MB/s eta 0:00:08\n",
            "   --------------- ------------------------ 5.0/12.6 MB 1.1 MB/s eta 0:00:08\n",
            "   ---------------- ----------------------- 5.2/12.6 MB 1.1 MB/s eta 0:00:07\n",
            "   ----------------- ---------------------- 5.5/12.6 MB 1.1 MB/s eta 0:00:07\n",
            "   ----------------- ---------------------- 5.5/12.6 MB 1.1 MB/s eta 0:00:07\n",
            "   ------------------ --------------------- 5.8/12.6 MB 1.0 MB/s eta 0:00:07\n",
            "   ------------------- -------------------- 6.0/12.6 MB 1.0 MB/s eta 0:00:07\n",
            "   -------------------- ------------------- 6.3/12.6 MB 1.1 MB/s eta 0:00:06\n",
            "   -------------------- ------------------- 6.6/12.6 MB 1.1 MB/s eta 0:00:06\n",
            "   --------------------- ------------------ 6.8/12.6 MB 1.1 MB/s eta 0:00:06\n",
            "   ---------------------- ----------------- 7.1/12.6 MB 1.1 MB/s eta 0:00:06\n",
            "   ----------------------- ---------------- 7.3/12.6 MB 1.1 MB/s eta 0:00:05\n",
            "   ------------------------ --------------- 7.6/12.6 MB 1.1 MB/s eta 0:00:05\n",
            "   ------------------------- -------------- 7.9/12.6 MB 1.1 MB/s eta 0:00:05\n",
            "   ------------------------- -------------- 8.1/12.6 MB 1.1 MB/s eta 0:00:05\n",
            "   -------------------------- ------------- 8.4/12.6 MB 1.1 MB/s eta 0:00:04\n",
            "   --------------------------- ------------ 8.7/12.6 MB 1.1 MB/s eta 0:00:04\n",
            "   ----------------------------- ---------- 9.2/12.6 MB 1.1 MB/s eta 0:00:04\n",
            "   ------------------------------ --------- 9.4/12.6 MB 1.1 MB/s eta 0:00:03\n",
            "   ------------------------------ --------- 9.7/12.6 MB 1.1 MB/s eta 0:00:03\n",
            "   ------------------------------- -------- 10.0/12.6 MB 1.1 MB/s eta 0:00:03\n",
            "   --------------------------------- ------ 10.5/12.6 MB 1.2 MB/s eta 0:00:02\n",
            "   ---------------------------------- ----- 10.7/12.6 MB 1.2 MB/s eta 0:00:02\n",
            "   ----------------------------------- ---- 11.0/12.6 MB 1.2 MB/s eta 0:00:02\n",
            "   ----------------------------------- ---- 11.3/12.6 MB 1.2 MB/s eta 0:00:02\n",
            "   ------------------------------------- -- 11.8/12.6 MB 1.2 MB/s eta 0:00:01\n",
            "   -------------------------------------- - 12.1/12.6 MB 1.2 MB/s eta 0:00:01\n",
            "   ---------------------------------------  12.3/12.6 MB 1.2 MB/s eta 0:00:01\n",
            "   ---------------------------------------- 12.6/12.6 MB 1.2 MB/s eta 0:00:00\n",
            "Installing collected packages: numpy, tf-keras\n",
            "  Attempting uninstall: numpy\n",
            "    Found existing installation: numpy 2.2.5\n",
            "    Uninstalling numpy-2.2.5:\n",
            "      Successfully uninstalled numpy-2.2.5\n",
            "Successfully installed numpy-2.1.3 tf-keras-2.19.0\n"
          ]
        }
      ],
      "source": [
        "%pip install tf-keras"
      ]
    },
    {
      "cell_type": "code",
      "execution_count": 2,
      "metadata": {
        "colab": {
          "base_uri": "https://localhost:8080/",
          "height": 450
        },
        "id": "NcOmbSyUXTkj",
        "outputId": "6dac4092-166a-452c-cc28-bd522e4a4ddb"
      },
      "outputs": [
        {
          "name": "stderr",
          "output_type": "stream",
          "text": [
            "Device set to use cpu\n",
            "Your max_length is set to 300, but your input_length is only 175. Since this is a summarization task, where outputs shorter than the input are typically wanted, you might consider decreasing max_length manually, e.g. summarizer('...', max_length=87)\n",
            "Your max_length is set to 1200, but your input_length is only 701. Since this is a summarization task, where outputs shorter than the input are typically wanted, you might consider decreasing max_length manually, e.g. summarizer('...', max_length=350)\n"
          ]
        },
        {
          "name": "stdout",
          "output_type": "stream",
          "text": [
            "\n",
            "📋 Résumé Final :\n",
            "\n",
            "- Portugal face Spain in their opening World Cup match in Soti.\n",
            "- Cristiano Ronaldo opens the scoring from the penalty spot.\n",
            "- Spain hit back from the spot to equalise through Esco.\n",
            "- Spain win the Group B fixture 2-1 after a late penalty from Alba.\n",
            "- Diego Costa scored the only goal of the game in the first half.\n",
            "- David DeHaye makes an error to give Portugal the lead.\n",
            "- Ronaldo equalizes for Portugal in the second half.\n",
            "- Ronaldo has scored 10 goals for Spain so far in the tournament.\n",
            "- Portugal have won just one of the last 18 matches at the World Cup.\n",
            "- Spain are unbeaten under their former coach Luis Enrique.\n",
            "- Spain have lost their opening match in the last two World Cup stages.\n",
            "- Spain lost four nil to Germany in their first match four years ago.\n",
            "- Portugal are looking to expunge better memories from that match.\n",
            "- Spain were beaten 4-0 by Germany in the 2010 World Cup Final.\n",
            "- Portugal were beaten 3-2 by Holland in the 2006 World Cup final.\n",
            "- Spain won the 2006 final 4-2 on penalties after a 1-1 draw with Holland.\n",
            "- Spain beat Portugal 3-1 in the 2007 World Cup quarter-final.\n",
            "- Spain defeated Portugal 2-0 in the 2008 World Cup semi-final at the Estadio da Luiz Felipe Scolari in Rio de Janeiro.\n",
            "- Portugal beat Spain 1-0 on penalties in the quarter-finals in Brazil in 2006.\n",
            "- Portugal lost 2-3 on penalties to Costa Rica in the 2011 World Cup in Brazil.\n"
          ]
        }
      ],
      "source": [
        "from transformers import pipeline, BartTokenizer\n",
        "\n",
        "# Charger le modèle et le tokenizer\n",
        "summarizer = pipeline(\"summarization\", model=\"facebook/bart-large-cnn\")\n",
        "tokenizer = BartTokenizer.from_pretrained(\"facebook/bart-large-cnn\")\n",
        "\n",
        "# Charger le texte de transcription\n",
        "with open(\"transcription_finale.txt\", \"r\", encoding=\"utf-8\") as f:\n",
        "    final_transcription = f.read().strip()\n",
        "\n",
        "# Fonction pour diviser le texte en morceaux\n",
        "def chunk_text(text, max_tokens=512):\n",
        "    tokens = tokenizer.encode(text, truncation=False, return_tensors=\"pt\")[0]\n",
        "    chunks = []\n",
        "    for i in range(0, len(tokens), max_tokens):\n",
        "        chunk_tokens = tokens[i:i+max_tokens]\n",
        "        chunk_text = tokenizer.decode(chunk_tokens, skip_special_tokens=True)\n",
        "        chunks.append(chunk_text)\n",
        "    return chunks\n",
        "\n",
        "# Découpage du texte\n",
        "chunks = chunk_text(final_transcription)\n",
        "\n",
        "# Résumé de chaque morceau\n",
        "summaries = []\n",
        "for chunk in chunks:\n",
        "    try:\n",
        "        # Augmenter max_length et min_length pour générer des résumés plus détaillés\n",
        "        summary = summarizer(chunk, max_length=300, min_length=50, do_sample=False)\n",
        "        summaries.append(summary[0]['summary_text'])\n",
        "    except Exception as e:\n",
        "        print(f\"Erreur lors du résumé : {e}\")\n",
        "        continue\n",
        "\n",
        "if not summaries:\n",
        "    print(\"Aucun résumé généré. Vérifiez votre texte d'entrée.\")\n",
        "    exit()\n",
        "\n",
        "# Combinaison des résumés\n",
        "final_summary = \" \".join(summaries)\n",
        "\n",
        "# Fonction pour formater en liste à puces avec points finaux\n",
        "def format_bullet_points(text):\n",
        "    # Séparer les phrases et s'assurer qu'elles se terminent par un point\n",
        "    sentences = []\n",
        "    for s in text.split('.'):\n",
        "        s = s.strip()\n",
        "        if s:  # seulement si la phrase n'est pas vide\n",
        "            if not s.endswith('.'):\n",
        "                s += '.'\n",
        "            sentences.append(s)\n",
        "    # Formater chaque phrase avec un tiret\n",
        "    bullet_points = [f\"- {sentence}\" for sentence in sentences]\n",
        "    return \"\\n\".join(bullet_points)\n",
        "\n",
        "# Génération du résumé final\n",
        "try:\n",
        "    # Augmenter max_length et min_length pour le résumé final\n",
        "    final_resumed_summary = summarizer(\n",
        "        final_summary,\n",
        "        max_length=1200,\n",
        "        min_length=300,\n",
        "        do_sample=False\n",
        "    )\n",
        "    \n",
        "    print(\"\\n📋 Résumé Final :\\n\")\n",
        "    formatted_summary = format_bullet_points(final_resumed_summary[0]['summary_text'])\n",
        "    print(formatted_summary)\n",
        "    \n",
        "except Exception as e:\n",
        "    print(f\"Erreur lors de la génération du résumé final: {e}\")\n",
        "    print(\"\\n📋Résumé Partiel :\\n\")\n",
        "    formatted_partial = format_bullet_points(final_summary)\n",
        "    print(formatted_partial)"
      ]
    },
    {
      "cell_type": "code",
      "execution_count": 3,
      "metadata": {
        "colab": {
          "base_uri": "https://localhost:8080/",
          "height": 1000
        },
        "id": "QTVKaabHcuzj",
        "outputId": "083dd8f1-c3aa-46d2-8935-aff0ab1e61ec"
      },
      "outputs": [
        {
          "name": "stdout",
          "output_type": "stream",
          "text": [
            "Note: you may need to restart the kernel to use updated packages.Defaulting to user installation because normal site-packages is not writeable\n",
            "Collecting googletrans==4.0.0-rc1\n",
            "  Downloading googletrans-4.0.0rc1.tar.gz (20 kB)\n",
            "  Preparing metadata (setup.py): started\n",
            "  Preparing metadata (setup.py): finished with status 'done'\n",
            "Collecting httpx==0.13.3 (from googletrans==4.0.0-rc1)\n",
            "  Downloading httpx-0.13.3-py3-none-any.whl.metadata (25 kB)\n",
            "Requirement already satisfied: certifi in c:\\users\\shams\\appdata\\roaming\\python\\python312\\site-packages (from httpx==0.13.3->googletrans==4.0.0-rc1) (2024.12.14)\n",
            "Collecting hstspreload (from httpx==0.13.3->googletrans==4.0.0-rc1)\n",
            "  Downloading hstspreload-2025.1.1-py3-none-any.whl.metadata (2.1 kB)\n",
            "Requirement already satisfied: sniffio in c:\\users\\shams\\appdata\\roaming\\python\\python312\\site-packages (from httpx==0.13.3->googletrans==4.0.0-rc1) (1.3.1)\n",
            "Collecting chardet==3.* (from httpx==0.13.3->googletrans==4.0.0-rc1)\n",
            "  Downloading chardet-3.0.4-py2.py3-none-any.whl.metadata (3.2 kB)\n",
            "Collecting idna==2.* (from httpx==0.13.3->googletrans==4.0.0-rc1)\n",
            "  Downloading idna-2.10-py2.py3-none-any.whl.metadata (9.1 kB)\n",
            "Collecting rfc3986<2,>=1.3 (from httpx==0.13.3->googletrans==4.0.0-rc1)\n",
            "  Downloading rfc3986-1.5.0-py2.py3-none-any.whl.metadata (6.5 kB)\n",
            "Collecting httpcore==0.9.* (from httpx==0.13.3->googletrans==4.0.0-rc1)\n",
            "  Downloading httpcore-0.9.1-py3-none-any.whl.metadata (4.6 kB)\n",
            "Collecting h11<0.10,>=0.8 (from httpcore==0.9.*->httpx==0.13.3->googletrans==4.0.0-rc1)\n",
            "  Downloading h11-0.9.0-py2.py3-none-any.whl.metadata (8.1 kB)\n",
            "Collecting h2==3.* (from httpcore==0.9.*->httpx==0.13.3->googletrans==4.0.0-rc1)\n",
            "  Downloading h2-3.2.0-py2.py3-none-any.whl.metadata (32 kB)\n",
            "Collecting hyperframe<6,>=5.2.0 (from h2==3.*->httpcore==0.9.*->httpx==0.13.3->googletrans==4.0.0-rc1)\n",
            "  Downloading hyperframe-5.2.0-py2.py3-none-any.whl.metadata (7.2 kB)\n",
            "Collecting hpack<4,>=3.0 (from h2==3.*->httpcore==0.9.*->httpx==0.13.3->googletrans==4.0.0-rc1)\n",
            "  Downloading hpack-3.0.0-py2.py3-none-any.whl.metadata (7.0 kB)\n",
            "Downloading httpx-0.13.3-py3-none-any.whl (55 kB)\n",
            "Downloading chardet-3.0.4-py2.py3-none-any.whl (133 kB)\n",
            "Downloading httpcore-0.9.1-py3-none-any.whl (42 kB)\n",
            "Downloading idna-2.10-py2.py3-none-any.whl (58 kB)\n",
            "Downloading h2-3.2.0-py2.py3-none-any.whl (65 kB)\n",
            "Downloading rfc3986-1.5.0-py2.py3-none-any.whl (31 kB)\n",
            "Downloading hstspreload-2025.1.1-py3-none-any.whl (1.3 MB)\n",
            "   ---------------------------------------- 0.0/1.3 MB ? eta -:--:--\n",
            "   ---------------- ----------------------- 0.5/1.3 MB 2.4 MB/s eta 0:00:01\n",
            "   ------------------------ --------------- 0.8/1.3 MB 2.1 MB/s eta 0:00:01\n",
            "   ---------------------------------------- 1.3/1.3 MB 2.4 MB/s eta 0:00:00\n",
            "Downloading h11-0.9.0-py2.py3-none-any.whl (53 kB)\n",
            "Downloading hpack-3.0.0-py2.py3-none-any.whl (38 kB)\n",
            "Downloading hyperframe-5.2.0-py2.py3-none-any.whl (12 kB)\n",
            "Building wheels for collected packages: googletrans\n",
            "  Building wheel for googletrans (setup.py): started\n",
            "  Building wheel for googletrans (setup.py): finished with status 'done'\n",
            "  Created wheel for googletrans: filename=googletrans-4.0.0rc1-py3-none-any.whl size=17517 sha256=23e719026d5187bdd011fba9efc3fdf2c4d5744be1f7e70fa2e39c13fc99ca18\n",
            "  Stored in directory: c:\\users\\shams\\appdata\\local\\pip\\cache\\wheels\\95\\0f\\04\\b17a72024b56a60e499ce1a6313d283ed5ba332407155bee03\n",
            "Successfully built googletrans\n",
            "Installing collected packages: rfc3986, hyperframe, hpack, h11, chardet, idna, hstspreload, h2, httpcore, httpx, googletrans\n",
            "  Attempting uninstall: h11\n",
            "    Found existing installation: h11 0.14.0\n",
            "    Uninstalling h11-0.14.0:\n",
            "      Successfully uninstalled h11-0.14.0\n",
            "  Attempting uninstall: chardet\n",
            "    Found existing installation: chardet 5.2.0\n",
            "    Uninstalling chardet-5.2.0:\n",
            "      Successfully uninstalled chardet-5.2.0\n",
            "  Attempting uninstall: idna\n",
            "    Found existing installation: idna 3.10\n",
            "    Uninstalling idna-3.10:\n",
            "      Successfully uninstalled idna-3.10\n",
            "  Attempting uninstall: httpcore\n",
            "    Found existing installation: httpcore 1.0.7\n",
            "    Uninstalling httpcore-1.0.7:\n",
            "      Successfully uninstalled httpcore-1.0.7\n",
            "  Attempting uninstall: httpx\n",
            "    Found existing installation: httpx 0.28.1\n",
            "    Uninstalling httpx-0.28.1:\n",
            "      Successfully uninstalled httpx-0.28.1\n",
            "Successfully installed chardet-3.0.4 googletrans-4.0.0rc1 h11-0.9.0 h2-3.2.0 hpack-3.0.0 hstspreload-2025.1.1 httpcore-0.9.1 httpx-0.13.3 hyperframe-5.2.0 idna-2.10 rfc3986-1.5.0\n",
            "\n"
          ]
        },
        {
          "name": "stderr",
          "output_type": "stream",
          "text": [
            "ERROR: pip's dependency resolver does not currently take into account all the packages that are installed. This behaviour is the source of the following dependency conflicts.\n",
            "anthropic 0.49.0 requires httpx<1,>=0.23.0, but you have httpx 0.13.3 which is incompatible.\n",
            "inference 0.46.1 requires httpx~=0.28.1, but you have httpx 0.13.3 which is incompatible.\n",
            "inference 0.46.1 requires opencv-python<=4.10.0.84,>=4.8.1.78, but you have opencv-python 4.11.0.86 which is incompatible.\n",
            "inference 0.46.1 requires pillow<12.0,>=11.0, but you have pillow 10.4.0 which is incompatible.\n",
            "inference 0.46.1 requires python-dotenv~=1.0.0, but you have python-dotenv 1.1.0 which is incompatible.\n",
            "openai 1.70.0 requires httpx<1,>=0.23.0, but you have httpx 0.13.3 which is incompatible.\n",
            "tensorflow-intel 2.18.0 requires ml-dtypes<0.5.0,>=0.4.0, but you have ml-dtypes 0.5.1 which is incompatible.\n",
            "tensorflow-intel 2.18.0 requires numpy<2.1.0,>=1.26.0, but you have numpy 2.1.3 which is incompatible.\n",
            "tensorflow-intel 2.18.0 requires tensorboard<2.19,>=2.18, but you have tensorboard 2.19.0 which is incompatible.\n",
            "ultralytics 8.3.105 requires numpy<=2.1.1,>=1.23.0, but you have numpy 2.1.3 which is incompatible.\n",
            "\n",
            "[notice] A new release of pip is available: 25.0.1 -> 25.1\n",
            "[notice] To update, run: python.exe -m pip install --upgrade pip\n"
          ]
        }
      ],
      "source": [
        "%pip install googletrans==4.0.0-rc1"
      ]
    },
    {
      "cell_type": "code",
      "execution_count": 6,
      "metadata": {
        "colab": {
          "base_uri": "https://localhost:8080/"
        },
        "id": "Ok-7w4XMctJ9",
        "outputId": "26e054dc-4f9c-4fa8-b2e4-eea784fd7aee"
      },
      "outputs": [
        {
          "name": "stdout",
          "output_type": "stream",
          "text": [
            "Résumé traduit en français:\n",
            "{'résumé_text': 'Portugal fait face à l'Espagne dans son match d'ouverture de la Coupe du monde à Soti.Cristiano Ronaldo ouvre le score du point de pénalité.L'Espagne a riposté de l'endroit pour égaliser par Esco.L'Espagne remporte le match du groupe B 2-1 après une pénalité tardive d'Alba.Diego Costa a marqué le seul but du match en première mi-temps.David Dehaye fait une erreur pour donner au Portugal l'avance.Ronaldo égalise pour le Portugal en seconde période.Ronaldo a marqué 10 buts pour l'Espagne jusqu'à présent dans le tournoi.Le Portugal n'a remporté que l'un des 18 derniers matchs de la Coupe du monde.L'Espagne est invaincu sous leur ancien entraîneur Luis Enrique.L'Espagne a perdu son match d'ouverture lors des deux dernières scènes de la Coupe du monde.L'Espagne a perdu quatre NIL contre l'Allemagne lors de son premier match il y a quatre ans.Le Portugal cherche à effacer de meilleurs souvenirs de ce match.L'Espagne a été battue 4-0 par l'Allemagne lors de la finale de la Coupe du monde 2010.Le Portugal a été battu 3-2 par Hollande lors de la finale de la Coupe du monde 2006.L'Espagne a remporté la finale 4-2 2006 aux pénalités après un match nul 1-1 avec la Hollande.L'Espagne a battu le Portugal 3-1 en quart de finale de la Coupe du monde 2007.L'Espagne a battu le Portugal 2-0 en demi-finale de la Coupe du monde 2008 à l'Estadio da Luiz Felipe Scolari à Rio de Janeiro.Le Portugal a battu l'Espagne 1-0 aux pénalités en quart de finale du Brésil en 2006. Le Portugal a perdu 2-3 en pénalités contre le Costa Rica lors de la Coupe du monde 2011 au Brésil. '}.\n"
          ]
        }
      ],
      "source": [
        "from googletrans import Translator\n",
        "\n",
        "translator = Translator()\n",
        "translated_summary = translator.translate(\" \".join(str(sentence) for sentence in final_resumed_summary), src=\"en\", dest=\"fr\").text\n",
        "print(\"Résumé traduit en français:\")\n",
        "print(translated_summary)"
      ]
    }
  ],
  "metadata": {
    "accelerator": "TPU",
    "colab": {
      "gpuType": "V28",
      "provenance": []
    },
    "kernelspec": {
      "display_name": "Python 3",
      "name": "python3"
    },
    "language_info": {
      "codemirror_mode": {
        "name": "ipython",
        "version": 3
      },
      "file_extension": ".py",
      "mimetype": "text/x-python",
      "name": "python",
      "nbconvert_exporter": "python",
      "pygments_lexer": "ipython3",
      "version": "3.12.7"
    }
  },
  "nbformat": 4,
  "nbformat_minor": 0
}
